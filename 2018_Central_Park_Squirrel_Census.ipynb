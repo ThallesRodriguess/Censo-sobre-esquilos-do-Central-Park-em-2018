{
  "nbformat": 4,
  "nbformat_minor": 0,
  "metadata": {
    "colab": {
      "provenance": [],
      "mount_file_id": "15JOB5M0Yokt1o8cxfKn63_YBqrmjF9nx",
      "authorship_tag": "ABX9TyMVfHIDCpyHW/1k+Yb8SI02",
      "include_colab_link": true
    },
    "kernelspec": {
      "name": "python3",
      "display_name": "Python 3"
    },
    "language_info": {
      "name": "python"
    }
  },
  "cells": [
    {
      "cell_type": "markdown",
      "metadata": {
        "id": "view-in-github",
        "colab_type": "text"
      },
      "source": [
        "<a href=\"https://colab.research.google.com/github/ThallesRodriguess/Censo-sobre-esquilos-do-Central-Park-em-2018/blob/main/2018_Central_Park_Squirrel_Census.ipynb\" target=\"_parent\"><img src=\"https://colab.research.google.com/assets/colab-badge.svg\" alt=\"Open In Colab\"/></a>"
      ]
    },
    {
      "cell_type": "markdown",
      "source": [
        "# Censo sobre esquilos do Central Park em 2018"
      ],
      "metadata": {
        "id": "AyNHPMPMKB7P"
      }
    },
    {
      "cell_type": "markdown",
      "source": [
        "O objetivo deste notebook é comparar as quantidades de esquilos que habitam o Central Park de Nova York do mês de Outubro de 2018, de acordo com suas cores, faixa etária, hábitos e aparição conforme horário do dia.\n"
      ],
      "metadata": {
        "id": "nrsOBuMrKOBE"
      }
    },
    {
      "cell_type": "markdown",
      "source": [
        "Neste notebook, foi utilizada as seguintes bibliotecas:\n",
        "\n",
        "*  Pandas: para realizar o carregamento dos dados via csv.\n",
        "*  Matplotlib: para fazer a plotação dos gráficos de acordo com os dados do csv carregados com o Pandas.\n",
        "*  Seaborn: para fazer análise exploratória de dados com ferramentas de plotagem."
      ],
      "metadata": {
        "id": "pUo3_gqtOWxs"
      }
    },
    {
      "cell_type": "markdown",
      "source": [
        "# Importando bibliotecas e csv"
      ],
      "metadata": {
        "id": "Sot-BO72PWFd"
      }
    },
    {
      "cell_type": "code",
      "execution_count": 1,
      "metadata": {
        "id": "G8uZeXWYtbec"
      },
      "outputs": [],
      "source": [
        "import pandas as pd\n",
        "import seaborn as sns\n",
        "%matplotlib inline\n",
        "import matplotlib.pyplot as plt\n"
      ]
    },
    {
      "cell_type": "code",
      "source": [
        "df = pd.read_csv(\"2018_Central_Park_Squirrel_Census_-_Squirrel_Data.csv\")"
      ],
      "metadata": {
        "id": "eU5EXmtktsui"
      },
      "execution_count": 2,
      "outputs": []
    },
    {
      "cell_type": "markdown",
      "source": [
        "# Vusualizando o dataframe"
      ],
      "metadata": {
        "id": "-i1aPXI-RTp8"
      }
    },
    {
      "cell_type": "code",
      "source": [
        "df"
      ],
      "metadata": {
        "colab": {
          "base_uri": "https://localhost:8080/",
          "height": 869
        },
        "id": "iDuEKRa7uJKq",
        "outputId": "1080c6b7-02cd-4704-f3e8-f6acfea64835"
      },
      "execution_count": 3,
      "outputs": [
        {
          "output_type": "execute_result",
          "data": {
            "text/plain": [
              "              X          Y Unique Squirrel ID Hectare Shift      Date  \\\n",
              "0    -73.956134  40.794082     37F-PM-1014-03     37F    PM  10142018   \n",
              "1    -73.957044  40.794851     37E-PM-1006-03     37E    PM  10062018   \n",
              "2    -73.976831  40.766718      2E-AM-1010-03     02E    AM  10102018   \n",
              "3    -73.975725  40.769703      5D-PM-1018-05     05D    PM  10182018   \n",
              "4    -73.959313  40.797533     39B-AM-1018-01     39B    AM  10182018   \n",
              "...         ...        ...                ...     ...   ...       ...   \n",
              "3018 -73.963943  40.790868     30B-AM-1007-04     30B    AM  10072018   \n",
              "3019 -73.970402  40.782560     19A-PM-1013-05     19A    PM  10132018   \n",
              "3020 -73.966587  40.783678     22D-PM-1012-07     22D    PM  10122018   \n",
              "3021 -73.963994  40.789915     29B-PM-1010-02     29B    PM  10102018   \n",
              "3022 -73.975479  40.769640      5E-PM-1012-01     05E    PM  10122018   \n",
              "\n",
              "      Hectare Squirrel Number       Age Primary Fur Color  \\\n",
              "0                           3       NaN               NaN   \n",
              "1                           3     Adult              Gray   \n",
              "2                           3     Adult          Cinnamon   \n",
              "3                           5  Juvenile              Gray   \n",
              "4                           1       NaN               NaN   \n",
              "...                       ...       ...               ...   \n",
              "3018                        4     Adult              Gray   \n",
              "3019                        5     Adult              Gray   \n",
              "3020                        7     Adult              Gray   \n",
              "3021                        2       NaN              Gray   \n",
              "3022                        1     Adult          Cinnamon   \n",
              "\n",
              "         Highlight Fur Color  ...   Kuks  Quaas  Moans Tail flags  \\\n",
              "0                        NaN  ...  False  False  False      False   \n",
              "1                   Cinnamon  ...  False  False  False      False   \n",
              "2                        NaN  ...  False  False  False      False   \n",
              "3                        NaN  ...  False  False  False      False   \n",
              "4                        NaN  ...   True  False  False      False   \n",
              "...                      ...  ...    ...    ...    ...        ...   \n",
              "3018                     NaN  ...  False  False  False      False   \n",
              "3019                   White  ...  False  False  False      False   \n",
              "3020  Black, Cinnamon, White  ...  False  False  False      False   \n",
              "3021         Cinnamon, White  ...  False  False  False      False   \n",
              "3022             Gray, White  ...  False  False  False      False   \n",
              "\n",
              "     Tail twitches  Approaches  Indifferent  Runs from  Other Interactions  \\\n",
              "0            False       False        False      False                 NaN   \n",
              "1            False       False        False       True                  me   \n",
              "2            False       False         True      False                 NaN   \n",
              "3            False       False        False       True                 NaN   \n",
              "4            False       False        False      False                 NaN   \n",
              "...            ...         ...          ...        ...                 ...   \n",
              "3018         False       False        False       True                 NaN   \n",
              "3019         False       False         True      False                 NaN   \n",
              "3020         False       False         True      False                 NaN   \n",
              "3021         False       False         True      False                 NaN   \n",
              "3022         False        True        False      False                 NaN   \n",
              "\n",
              "                                          Lat/Long  \n",
              "0       POINT (-73.9561344937861 40.7940823884086)  \n",
              "1     POINT (-73.9570437717691 40.794850940803904)  \n",
              "2      POINT (-73.9768311751004 40.76671780725581)  \n",
              "3       POINT (-73.9757249834141 40.7697032606755)  \n",
              "4        POINT (-73.9593126695714 40.797533370163)  \n",
              "...                                            ...  \n",
              "3018    POINT (-73.9639431360458 40.7908677445466)  \n",
              "3019    POINT (-73.9704015859639 40.7825600069973)  \n",
              "3020    POINT (-73.9665871993517 40.7836775064883)  \n",
              "3021    POINT (-73.9639941227864 40.7899152327912)  \n",
              "3022    POINT (-73.9754794191553 40.7696404489025)  \n",
              "\n",
              "[3023 rows x 31 columns]"
            ],
            "text/html": [
              "\n",
              "  <div id=\"df-d1af6d62-06c3-4a5d-b7ec-8a4632e7226d\">\n",
              "    <div class=\"colab-df-container\">\n",
              "      <div>\n",
              "<style scoped>\n",
              "    .dataframe tbody tr th:only-of-type {\n",
              "        vertical-align: middle;\n",
              "    }\n",
              "\n",
              "    .dataframe tbody tr th {\n",
              "        vertical-align: top;\n",
              "    }\n",
              "\n",
              "    .dataframe thead th {\n",
              "        text-align: right;\n",
              "    }\n",
              "</style>\n",
              "<table border=\"1\" class=\"dataframe\">\n",
              "  <thead>\n",
              "    <tr style=\"text-align: right;\">\n",
              "      <th></th>\n",
              "      <th>X</th>\n",
              "      <th>Y</th>\n",
              "      <th>Unique Squirrel ID</th>\n",
              "      <th>Hectare</th>\n",
              "      <th>Shift</th>\n",
              "      <th>Date</th>\n",
              "      <th>Hectare Squirrel Number</th>\n",
              "      <th>Age</th>\n",
              "      <th>Primary Fur Color</th>\n",
              "      <th>Highlight Fur Color</th>\n",
              "      <th>...</th>\n",
              "      <th>Kuks</th>\n",
              "      <th>Quaas</th>\n",
              "      <th>Moans</th>\n",
              "      <th>Tail flags</th>\n",
              "      <th>Tail twitches</th>\n",
              "      <th>Approaches</th>\n",
              "      <th>Indifferent</th>\n",
              "      <th>Runs from</th>\n",
              "      <th>Other Interactions</th>\n",
              "      <th>Lat/Long</th>\n",
              "    </tr>\n",
              "  </thead>\n",
              "  <tbody>\n",
              "    <tr>\n",
              "      <th>0</th>\n",
              "      <td>-73.956134</td>\n",
              "      <td>40.794082</td>\n",
              "      <td>37F-PM-1014-03</td>\n",
              "      <td>37F</td>\n",
              "      <td>PM</td>\n",
              "      <td>10142018</td>\n",
              "      <td>3</td>\n",
              "      <td>NaN</td>\n",
              "      <td>NaN</td>\n",
              "      <td>NaN</td>\n",
              "      <td>...</td>\n",
              "      <td>False</td>\n",
              "      <td>False</td>\n",
              "      <td>False</td>\n",
              "      <td>False</td>\n",
              "      <td>False</td>\n",
              "      <td>False</td>\n",
              "      <td>False</td>\n",
              "      <td>False</td>\n",
              "      <td>NaN</td>\n",
              "      <td>POINT (-73.9561344937861 40.7940823884086)</td>\n",
              "    </tr>\n",
              "    <tr>\n",
              "      <th>1</th>\n",
              "      <td>-73.957044</td>\n",
              "      <td>40.794851</td>\n",
              "      <td>37E-PM-1006-03</td>\n",
              "      <td>37E</td>\n",
              "      <td>PM</td>\n",
              "      <td>10062018</td>\n",
              "      <td>3</td>\n",
              "      <td>Adult</td>\n",
              "      <td>Gray</td>\n",
              "      <td>Cinnamon</td>\n",
              "      <td>...</td>\n",
              "      <td>False</td>\n",
              "      <td>False</td>\n",
              "      <td>False</td>\n",
              "      <td>False</td>\n",
              "      <td>False</td>\n",
              "      <td>False</td>\n",
              "      <td>False</td>\n",
              "      <td>True</td>\n",
              "      <td>me</td>\n",
              "      <td>POINT (-73.9570437717691 40.794850940803904)</td>\n",
              "    </tr>\n",
              "    <tr>\n",
              "      <th>2</th>\n",
              "      <td>-73.976831</td>\n",
              "      <td>40.766718</td>\n",
              "      <td>2E-AM-1010-03</td>\n",
              "      <td>02E</td>\n",
              "      <td>AM</td>\n",
              "      <td>10102018</td>\n",
              "      <td>3</td>\n",
              "      <td>Adult</td>\n",
              "      <td>Cinnamon</td>\n",
              "      <td>NaN</td>\n",
              "      <td>...</td>\n",
              "      <td>False</td>\n",
              "      <td>False</td>\n",
              "      <td>False</td>\n",
              "      <td>False</td>\n",
              "      <td>False</td>\n",
              "      <td>False</td>\n",
              "      <td>True</td>\n",
              "      <td>False</td>\n",
              "      <td>NaN</td>\n",
              "      <td>POINT (-73.9768311751004 40.76671780725581)</td>\n",
              "    </tr>\n",
              "    <tr>\n",
              "      <th>3</th>\n",
              "      <td>-73.975725</td>\n",
              "      <td>40.769703</td>\n",
              "      <td>5D-PM-1018-05</td>\n",
              "      <td>05D</td>\n",
              "      <td>PM</td>\n",
              "      <td>10182018</td>\n",
              "      <td>5</td>\n",
              "      <td>Juvenile</td>\n",
              "      <td>Gray</td>\n",
              "      <td>NaN</td>\n",
              "      <td>...</td>\n",
              "      <td>False</td>\n",
              "      <td>False</td>\n",
              "      <td>False</td>\n",
              "      <td>False</td>\n",
              "      <td>False</td>\n",
              "      <td>False</td>\n",
              "      <td>False</td>\n",
              "      <td>True</td>\n",
              "      <td>NaN</td>\n",
              "      <td>POINT (-73.9757249834141 40.7697032606755)</td>\n",
              "    </tr>\n",
              "    <tr>\n",
              "      <th>4</th>\n",
              "      <td>-73.959313</td>\n",
              "      <td>40.797533</td>\n",
              "      <td>39B-AM-1018-01</td>\n",
              "      <td>39B</td>\n",
              "      <td>AM</td>\n",
              "      <td>10182018</td>\n",
              "      <td>1</td>\n",
              "      <td>NaN</td>\n",
              "      <td>NaN</td>\n",
              "      <td>NaN</td>\n",
              "      <td>...</td>\n",
              "      <td>True</td>\n",
              "      <td>False</td>\n",
              "      <td>False</td>\n",
              "      <td>False</td>\n",
              "      <td>False</td>\n",
              "      <td>False</td>\n",
              "      <td>False</td>\n",
              "      <td>False</td>\n",
              "      <td>NaN</td>\n",
              "      <td>POINT (-73.9593126695714 40.797533370163)</td>\n",
              "    </tr>\n",
              "    <tr>\n",
              "      <th>...</th>\n",
              "      <td>...</td>\n",
              "      <td>...</td>\n",
              "      <td>...</td>\n",
              "      <td>...</td>\n",
              "      <td>...</td>\n",
              "      <td>...</td>\n",
              "      <td>...</td>\n",
              "      <td>...</td>\n",
              "      <td>...</td>\n",
              "      <td>...</td>\n",
              "      <td>...</td>\n",
              "      <td>...</td>\n",
              "      <td>...</td>\n",
              "      <td>...</td>\n",
              "      <td>...</td>\n",
              "      <td>...</td>\n",
              "      <td>...</td>\n",
              "      <td>...</td>\n",
              "      <td>...</td>\n",
              "      <td>...</td>\n",
              "      <td>...</td>\n",
              "    </tr>\n",
              "    <tr>\n",
              "      <th>3018</th>\n",
              "      <td>-73.963943</td>\n",
              "      <td>40.790868</td>\n",
              "      <td>30B-AM-1007-04</td>\n",
              "      <td>30B</td>\n",
              "      <td>AM</td>\n",
              "      <td>10072018</td>\n",
              "      <td>4</td>\n",
              "      <td>Adult</td>\n",
              "      <td>Gray</td>\n",
              "      <td>NaN</td>\n",
              "      <td>...</td>\n",
              "      <td>False</td>\n",
              "      <td>False</td>\n",
              "      <td>False</td>\n",
              "      <td>False</td>\n",
              "      <td>False</td>\n",
              "      <td>False</td>\n",
              "      <td>False</td>\n",
              "      <td>True</td>\n",
              "      <td>NaN</td>\n",
              "      <td>POINT (-73.9639431360458 40.7908677445466)</td>\n",
              "    </tr>\n",
              "    <tr>\n",
              "      <th>3019</th>\n",
              "      <td>-73.970402</td>\n",
              "      <td>40.782560</td>\n",
              "      <td>19A-PM-1013-05</td>\n",
              "      <td>19A</td>\n",
              "      <td>PM</td>\n",
              "      <td>10132018</td>\n",
              "      <td>5</td>\n",
              "      <td>Adult</td>\n",
              "      <td>Gray</td>\n",
              "      <td>White</td>\n",
              "      <td>...</td>\n",
              "      <td>False</td>\n",
              "      <td>False</td>\n",
              "      <td>False</td>\n",
              "      <td>False</td>\n",
              "      <td>False</td>\n",
              "      <td>False</td>\n",
              "      <td>True</td>\n",
              "      <td>False</td>\n",
              "      <td>NaN</td>\n",
              "      <td>POINT (-73.9704015859639 40.7825600069973)</td>\n",
              "    </tr>\n",
              "    <tr>\n",
              "      <th>3020</th>\n",
              "      <td>-73.966587</td>\n",
              "      <td>40.783678</td>\n",
              "      <td>22D-PM-1012-07</td>\n",
              "      <td>22D</td>\n",
              "      <td>PM</td>\n",
              "      <td>10122018</td>\n",
              "      <td>7</td>\n",
              "      <td>Adult</td>\n",
              "      <td>Gray</td>\n",
              "      <td>Black, Cinnamon, White</td>\n",
              "      <td>...</td>\n",
              "      <td>False</td>\n",
              "      <td>False</td>\n",
              "      <td>False</td>\n",
              "      <td>False</td>\n",
              "      <td>False</td>\n",
              "      <td>False</td>\n",
              "      <td>True</td>\n",
              "      <td>False</td>\n",
              "      <td>NaN</td>\n",
              "      <td>POINT (-73.9665871993517 40.7836775064883)</td>\n",
              "    </tr>\n",
              "    <tr>\n",
              "      <th>3021</th>\n",
              "      <td>-73.963994</td>\n",
              "      <td>40.789915</td>\n",
              "      <td>29B-PM-1010-02</td>\n",
              "      <td>29B</td>\n",
              "      <td>PM</td>\n",
              "      <td>10102018</td>\n",
              "      <td>2</td>\n",
              "      <td>NaN</td>\n",
              "      <td>Gray</td>\n",
              "      <td>Cinnamon, White</td>\n",
              "      <td>...</td>\n",
              "      <td>False</td>\n",
              "      <td>False</td>\n",
              "      <td>False</td>\n",
              "      <td>False</td>\n",
              "      <td>False</td>\n",
              "      <td>False</td>\n",
              "      <td>True</td>\n",
              "      <td>False</td>\n",
              "      <td>NaN</td>\n",
              "      <td>POINT (-73.9639941227864 40.7899152327912)</td>\n",
              "    </tr>\n",
              "    <tr>\n",
              "      <th>3022</th>\n",
              "      <td>-73.975479</td>\n",
              "      <td>40.769640</td>\n",
              "      <td>5E-PM-1012-01</td>\n",
              "      <td>05E</td>\n",
              "      <td>PM</td>\n",
              "      <td>10122018</td>\n",
              "      <td>1</td>\n",
              "      <td>Adult</td>\n",
              "      <td>Cinnamon</td>\n",
              "      <td>Gray, White</td>\n",
              "      <td>...</td>\n",
              "      <td>False</td>\n",
              "      <td>False</td>\n",
              "      <td>False</td>\n",
              "      <td>False</td>\n",
              "      <td>False</td>\n",
              "      <td>True</td>\n",
              "      <td>False</td>\n",
              "      <td>False</td>\n",
              "      <td>NaN</td>\n",
              "      <td>POINT (-73.9754794191553 40.7696404489025)</td>\n",
              "    </tr>\n",
              "  </tbody>\n",
              "</table>\n",
              "<p>3023 rows × 31 columns</p>\n",
              "</div>\n",
              "      <button class=\"colab-df-convert\" onclick=\"convertToInteractive('df-d1af6d62-06c3-4a5d-b7ec-8a4632e7226d')\"\n",
              "              title=\"Convert this dataframe to an interactive table.\"\n",
              "              style=\"display:none;\">\n",
              "        \n",
              "  <svg xmlns=\"http://www.w3.org/2000/svg\" height=\"24px\"viewBox=\"0 0 24 24\"\n",
              "       width=\"24px\">\n",
              "    <path d=\"M0 0h24v24H0V0z\" fill=\"none\"/>\n",
              "    <path d=\"M18.56 5.44l.94 2.06.94-2.06 2.06-.94-2.06-.94-.94-2.06-.94 2.06-2.06.94zm-11 1L8.5 8.5l.94-2.06 2.06-.94-2.06-.94L8.5 2.5l-.94 2.06-2.06.94zm10 10l.94 2.06.94-2.06 2.06-.94-2.06-.94-.94-2.06-.94 2.06-2.06.94z\"/><path d=\"M17.41 7.96l-1.37-1.37c-.4-.4-.92-.59-1.43-.59-.52 0-1.04.2-1.43.59L10.3 9.45l-7.72 7.72c-.78.78-.78 2.05 0 2.83L4 21.41c.39.39.9.59 1.41.59.51 0 1.02-.2 1.41-.59l7.78-7.78 2.81-2.81c.8-.78.8-2.07 0-2.86zM5.41 20L4 18.59l7.72-7.72 1.47 1.35L5.41 20z\"/>\n",
              "  </svg>\n",
              "      </button>\n",
              "      \n",
              "  <style>\n",
              "    .colab-df-container {\n",
              "      display:flex;\n",
              "      flex-wrap:wrap;\n",
              "      gap: 12px;\n",
              "    }\n",
              "\n",
              "    .colab-df-convert {\n",
              "      background-color: #E8F0FE;\n",
              "      border: none;\n",
              "      border-radius: 50%;\n",
              "      cursor: pointer;\n",
              "      display: none;\n",
              "      fill: #1967D2;\n",
              "      height: 32px;\n",
              "      padding: 0 0 0 0;\n",
              "      width: 32px;\n",
              "    }\n",
              "\n",
              "    .colab-df-convert:hover {\n",
              "      background-color: #E2EBFA;\n",
              "      box-shadow: 0px 1px 2px rgba(60, 64, 67, 0.3), 0px 1px 3px 1px rgba(60, 64, 67, 0.15);\n",
              "      fill: #174EA6;\n",
              "    }\n",
              "\n",
              "    [theme=dark] .colab-df-convert {\n",
              "      background-color: #3B4455;\n",
              "      fill: #D2E3FC;\n",
              "    }\n",
              "\n",
              "    [theme=dark] .colab-df-convert:hover {\n",
              "      background-color: #434B5C;\n",
              "      box-shadow: 0px 1px 3px 1px rgba(0, 0, 0, 0.15);\n",
              "      filter: drop-shadow(0px 1px 2px rgba(0, 0, 0, 0.3));\n",
              "      fill: #FFFFFF;\n",
              "    }\n",
              "  </style>\n",
              "\n",
              "      <script>\n",
              "        const buttonEl =\n",
              "          document.querySelector('#df-d1af6d62-06c3-4a5d-b7ec-8a4632e7226d button.colab-df-convert');\n",
              "        buttonEl.style.display =\n",
              "          google.colab.kernel.accessAllowed ? 'block' : 'none';\n",
              "\n",
              "        async function convertToInteractive(key) {\n",
              "          const element = document.querySelector('#df-d1af6d62-06c3-4a5d-b7ec-8a4632e7226d');\n",
              "          const dataTable =\n",
              "            await google.colab.kernel.invokeFunction('convertToInteractive',\n",
              "                                                     [key], {});\n",
              "          if (!dataTable) return;\n",
              "\n",
              "          const docLinkHtml = 'Like what you see? Visit the ' +\n",
              "            '<a target=\"_blank\" href=https://colab.research.google.com/notebooks/data_table.ipynb>data table notebook</a>'\n",
              "            + ' to learn more about interactive tables.';\n",
              "          element.innerHTML = '';\n",
              "          dataTable['output_type'] = 'display_data';\n",
              "          await google.colab.output.renderOutput(dataTable, element);\n",
              "          const docLink = document.createElement('div');\n",
              "          docLink.innerHTML = docLinkHtml;\n",
              "          element.appendChild(docLink);\n",
              "        }\n",
              "      </script>\n",
              "    </div>\n",
              "  </div>\n",
              "  "
            ]
          },
          "metadata": {},
          "execution_count": 3
        }
      ]
    },
    {
      "cell_type": "markdown",
      "source": [
        "# Convertendo o formato da data de mmddyyyy para yyyy-mm-dd"
      ],
      "metadata": {
        "id": "YAiK8AYPRtV0"
      }
    },
    {
      "cell_type": "code",
      "source": [
        "df_date = pd.to_datetime(df['Date'], format='%m%d%Y')"
      ],
      "metadata": {
        "id": "4k_IMoELZ27d"
      },
      "execution_count": 4,
      "outputs": []
    },
    {
      "cell_type": "code",
      "source": [
        "df_date"
      ],
      "metadata": {
        "colab": {
          "base_uri": "https://localhost:8080/"
        },
        "id": "meut11SWbW7M",
        "outputId": "bc714e41-9f4f-45aa-a25a-37003e977cad"
      },
      "execution_count": 5,
      "outputs": [
        {
          "output_type": "execute_result",
          "data": {
            "text/plain": [
              "0      2018-10-14\n",
              "1      2018-10-06\n",
              "2      2018-10-10\n",
              "3      2018-10-18\n",
              "4      2018-10-18\n",
              "          ...    \n",
              "3018   2018-10-07\n",
              "3019   2018-10-13\n",
              "3020   2018-10-12\n",
              "3021   2018-10-10\n",
              "3022   2018-10-12\n",
              "Name: Date, Length: 3023, dtype: datetime64[ns]"
            ]
          },
          "metadata": {},
          "execution_count": 5
        }
      ]
    },
    {
      "cell_type": "markdown",
      "source": [
        "# Criando uma nova coluna com os novos formatos de data"
      ],
      "metadata": {
        "id": "2IQ0EBINSH0k"
      }
    },
    {
      "cell_type": "code",
      "source": [
        "df['New Date'] = df_date"
      ],
      "metadata": {
        "id": "DcXUcK5rcIGk"
      },
      "execution_count": 6,
      "outputs": []
    },
    {
      "cell_type": "code",
      "source": [
        "df['New Date']"
      ],
      "metadata": {
        "colab": {
          "base_uri": "https://localhost:8080/"
        },
        "id": "O19s2qGScP3E",
        "outputId": "8664bbf8-062b-47c2-eae0-b9a136df86f4"
      },
      "execution_count": 7,
      "outputs": [
        {
          "output_type": "execute_result",
          "data": {
            "text/plain": [
              "0      2018-10-14\n",
              "1      2018-10-06\n",
              "2      2018-10-10\n",
              "3      2018-10-18\n",
              "4      2018-10-18\n",
              "          ...    \n",
              "3018   2018-10-07\n",
              "3019   2018-10-13\n",
              "3020   2018-10-12\n",
              "3021   2018-10-10\n",
              "3022   2018-10-12\n",
              "Name: New Date, Length: 3023, dtype: datetime64[ns]"
            ]
          },
          "metadata": {},
          "execution_count": 7
        }
      ]
    },
    {
      "cell_type": "markdown",
      "source": [
        "# Contagem de ocorrências de esquilos conforme os dias"
      ],
      "metadata": {
        "id": "wUzues9vSS4c"
      }
    },
    {
      "cell_type": "code",
      "source": [
        "df_date = df['New Date'].value_counts()"
      ],
      "metadata": {
        "id": "Kc_o8rLyban8"
      },
      "execution_count": 8,
      "outputs": []
    },
    {
      "cell_type": "code",
      "source": [
        "df_date"
      ],
      "metadata": {
        "colab": {
          "base_uri": "https://localhost:8080/"
        },
        "id": "sly7LUscbmC8",
        "outputId": "07b9216e-616e-4d70-873b-16bc0d1f83b0"
      },
      "execution_count": 9,
      "outputs": [
        {
          "output_type": "execute_result",
          "data": {
            "text/plain": [
              "2018-10-13    434\n",
              "2018-10-07    405\n",
              "2018-10-14    368\n",
              "2018-10-06    337\n",
              "2018-10-10    335\n",
              "2018-10-08    285\n",
              "2018-10-12    218\n",
              "2018-10-17    216\n",
              "2018-10-18    200\n",
              "2018-10-19    158\n",
              "2018-10-20     67\n",
              "Name: New Date, dtype: int64"
            ]
          },
          "metadata": {},
          "execution_count": 9
        }
      ]
    },
    {
      "cell_type": "markdown",
      "source": [
        "# Porcentagem da contagem de ocorrências de esquilos conforme os dias"
      ],
      "metadata": {
        "id": "0YSCaZodSp-V"
      }
    },
    {
      "cell_type": "code",
      "source": [
        "(df_date/(df_date).sum())*100"
      ],
      "metadata": {
        "colab": {
          "base_uri": "https://localhost:8080/"
        },
        "id": "67XNKeyYdDzV",
        "outputId": "0a2a936b-ba5c-4a58-edfb-297806761511"
      },
      "execution_count": 10,
      "outputs": [
        {
          "output_type": "execute_result",
          "data": {
            "text/plain": [
              "2018-10-13    14.356599\n",
              "2018-10-07    13.397287\n",
              "2018-10-14    12.173338\n",
              "2018-10-06    11.147866\n",
              "2018-10-10    11.081707\n",
              "2018-10-08     9.427721\n",
              "2018-10-12     7.211379\n",
              "2018-10-17     7.145220\n",
              "2018-10-18     6.615944\n",
              "2018-10-19     5.226596\n",
              "2018-10-20     2.216341\n",
              "Name: New Date, dtype: float64"
            ]
          },
          "metadata": {},
          "execution_count": 10
        }
      ]
    },
    {
      "cell_type": "markdown",
      "source": [
        "# Todas as colunas do dataframe"
      ],
      "metadata": {
        "id": "2enceWEGSyy0"
      }
    },
    {
      "cell_type": "code",
      "source": [
        "df.columns"
      ],
      "metadata": {
        "colab": {
          "base_uri": "https://localhost:8080/"
        },
        "id": "Lymn0wzffFkN",
        "outputId": "d593b89b-00f1-43f2-99ce-27e410375c7b"
      },
      "execution_count": 11,
      "outputs": [
        {
          "output_type": "execute_result",
          "data": {
            "text/plain": [
              "Index(['X', 'Y', 'Unique Squirrel ID', 'Hectare', 'Shift', 'Date',\n",
              "       'Hectare Squirrel Number', 'Age', 'Primary Fur Color',\n",
              "       'Highlight Fur Color', 'Combination of Primary and Highlight Color',\n",
              "       'Color notes', 'Location', 'Above Ground Sighter Measurement',\n",
              "       'Specific Location', 'Running', 'Chasing', 'Climbing', 'Eating',\n",
              "       'Foraging', 'Other Activities', 'Kuks', 'Quaas', 'Moans', 'Tail flags',\n",
              "       'Tail twitches', 'Approaches', 'Indifferent', 'Runs from',\n",
              "       'Other Interactions', 'Lat/Long', 'New Date'],\n",
              "      dtype='object')"
            ]
          },
          "metadata": {},
          "execution_count": 11
        }
      ]
    },
    {
      "cell_type": "markdown",
      "source": [
        "# As 10 maiores atividades registradas dos esquilos"
      ],
      "metadata": {
        "id": "O62qIjyn85LV"
      }
    },
    {
      "cell_type": "code",
      "source": [
        "df_activity = df['Other Activities'].value_counts().head(10)"
      ],
      "metadata": {
        "id": "Zstm4unT_ChH"
      },
      "execution_count": 12,
      "outputs": []
    },
    {
      "cell_type": "code",
      "source": [
        "df_activity"
      ],
      "metadata": {
        "colab": {
          "base_uri": "https://localhost:8080/"
        },
        "id": "El6QHrME2Eg_",
        "outputId": "cf0087b9-f0da-4a3e-ac14-9120fce6bdfa"
      },
      "execution_count": 13,
      "outputs": [
        {
          "output_type": "execute_result",
          "data": {
            "text/plain": [
              "digging         19\n",
              "sitting         16\n",
              "walking         14\n",
              "burying         12\n",
              "playing         11\n",
              "jumping          6\n",
              "grooming         5\n",
              "nut in mouth     4\n",
              "cleaning         4\n",
              "staring          4\n",
              "Name: Other Activities, dtype: int64"
            ]
          },
          "metadata": {},
          "execution_count": 13
        }
      ]
    },
    {
      "cell_type": "code",
      "source": [
        "df_activity.index"
      ],
      "metadata": {
        "colab": {
          "base_uri": "https://localhost:8080/"
        },
        "id": "_Ko0hPhr7Vd_",
        "outputId": "c7738dd6-d0d3-4b45-8496-55fa775b9bec"
      },
      "execution_count": 14,
      "outputs": [
        {
          "output_type": "execute_result",
          "data": {
            "text/plain": [
              "Index(['digging', 'sitting', 'walking', 'burying', 'playing', 'jumping',\n",
              "       'grooming', 'nut in mouth', 'cleaning', 'staring'],\n",
              "      dtype='object')"
            ]
          },
          "metadata": {},
          "execution_count": 14
        }
      ]
    },
    {
      "cell_type": "markdown",
      "source": [
        "# Gráfico das 10 maiores atividades registradas dos esquilos"
      ],
      "metadata": {
        "id": "CHGUGw4k9Bj2"
      }
    },
    {
      "cell_type": "code",
      "source": [
        "fig, ax = plt.subplots(figsize=(20, 8))\n",
        "sns.barplot(x=df_activity.index, y= df_activity)"
      ],
      "metadata": {
        "colab": {
          "base_uri": "https://localhost:8080/",
          "height": 500
        },
        "id": "OGTqBWfN3dk9",
        "outputId": "ce0ad820-72c2-4c14-9569-3caa79492ce4"
      },
      "execution_count": 15,
      "outputs": [
        {
          "output_type": "execute_result",
          "data": {
            "text/plain": [
              "<matplotlib.axes._subplots.AxesSubplot at 0x7f616526b940>"
            ]
          },
          "metadata": {},
          "execution_count": 15
        },
        {
          "output_type": "display_data",
          "data": {
            "text/plain": [
              "<Figure size 1440x576 with 1 Axes>"
            ],
            "image/png": "[encoded data removed]"
          },
          "metadata": {
            "needs_background": "light"
          }
        }
      ]
    },
    {
      "cell_type": "markdown",
      "source": [
        "# Gráfico em porcentagem das 10 maiores atividades registradas dos esquilos"
      ],
      "metadata": {
        "id": "G_pZ0pZu_pc_"
      }
    },
    {
      "cell_type": "code",
      "source": [
        "fig, ax = plt.subplots(figsize=(20, 8))\n",
        "sns.barplot(x=df_activity.index, y= df['Other Activities'].value_counts(normalize=True).head(10)*100)"
      ],
      "metadata": {
        "colab": {
          "base_uri": "https://localhost:8080/",
          "height": 500
        },
        "id": "UUV3vdoT_XvO",
        "outputId": "ebe72c29-8b66-462f-b3ea-f68a7b2e5187"
      },
      "execution_count": 16,
      "outputs": [
        {
          "output_type": "execute_result",
          "data": {
            "text/plain": [
              "<matplotlib.axes._subplots.AxesSubplot at 0x7f6164e3ddc0>"
            ]
          },
          "metadata": {},
          "execution_count": 16
        },
        {
          "output_type": "display_data",
          "data": {
            "text/plain": [
              "<Figure size 1440x576 with 1 Axes>"
            ],
            "image/png": "[encoded data removed]"
          },
          "metadata": {
            "needs_background": "light"
          }
        }
      ]
    },
    {
      "cell_type": "code",
      "source": [],
      "metadata": {
        "id": "UMKQNsWnokPu"
      },
      "execution_count": null,
      "outputs": []
    },
    {
      "cell_type": "code",
      "source": [
        "df_activity = df['Other Activities'].value_counts(normalize=True).head(10)*100"
      ],
      "metadata": {
        "id": "daVdM8O-5N9n"
      },
      "execution_count": 17,
      "outputs": []
    },
    {
      "cell_type": "code",
      "source": [
        "df_activity"
      ],
      "metadata": {
        "colab": {
          "base_uri": "https://localhost:8080/"
        },
        "id": "o8xUwucs5bnX",
        "outputId": "76c1a4ba-c192-4f60-8d2a-431ce2857156"
      },
      "execution_count": 18,
      "outputs": [
        {
          "output_type": "execute_result",
          "data": {
            "text/plain": [
              "digging         4.347826\n",
              "sitting         3.661327\n",
              "walking         3.203661\n",
              "burying         2.745995\n",
              "playing         2.517162\n",
              "jumping         1.372998\n",
              "grooming        1.144165\n",
              "nut in mouth    0.915332\n",
              "cleaning        0.915332\n",
              "staring         0.915332\n",
              "Name: Other Activities, dtype: float64"
            ]
          },
          "metadata": {},
          "execution_count": 18
        }
      ]
    },
    {
      "cell_type": "code",
      "source": [
        "df['Foraging'].value_counts()"
      ],
      "metadata": {
        "colab": {
          "base_uri": "https://localhost:8080/"
        },
        "id": "M4onnvJw6Rvk",
        "outputId": "fd2f0509-6aa6-4379-e453-0d0565650560"
      },
      "execution_count": 19,
      "outputs": [
        {
          "output_type": "execute_result",
          "data": {
            "text/plain": [
              "False    1588\n",
              "True     1435\n",
              "Name: Foraging, dtype: int64"
            ]
          },
          "metadata": {},
          "execution_count": 19
        }
      ]
    },
    {
      "cell_type": "code",
      "source": [
        "df['Eating'].value_counts()"
      ],
      "metadata": {
        "colab": {
          "base_uri": "https://localhost:8080/"
        },
        "id": "YnIB_xiV6Hir",
        "outputId": "8a2dd6a3-d7cd-4c0d-b5bb-967d2004f617"
      },
      "execution_count": 20,
      "outputs": [
        {
          "output_type": "execute_result",
          "data": {
            "text/plain": [
              "False    2263\n",
              "True      760\n",
              "Name: Eating, dtype: int64"
            ]
          },
          "metadata": {},
          "execution_count": 20
        }
      ]
    },
    {
      "cell_type": "code",
      "source": [
        "df['Climbing'].value_counts()"
      ],
      "metadata": {
        "colab": {
          "base_uri": "https://localhost:8080/"
        },
        "id": "dqMY5Gt96Be8",
        "outputId": "7bfa3502-6b02-4173-e72c-e7d178d007b0"
      },
      "execution_count": 21,
      "outputs": [
        {
          "output_type": "execute_result",
          "data": {
            "text/plain": [
              "False    2365\n",
              "True      658\n",
              "Name: Climbing, dtype: int64"
            ]
          },
          "metadata": {},
          "execution_count": 21
        }
      ]
    },
    {
      "cell_type": "code",
      "source": [
        "df['Chasing'].value_counts()"
      ],
      "metadata": {
        "colab": {
          "base_uri": "https://localhost:8080/"
        },
        "id": "doQPGlbs58hF",
        "outputId": "69276f7a-1be6-42c3-e9ec-630ef913230d"
      },
      "execution_count": 22,
      "outputs": [
        {
          "output_type": "execute_result",
          "data": {
            "text/plain": [
              "False    2744\n",
              "True      279\n",
              "Name: Chasing, dtype: int64"
            ]
          },
          "metadata": {},
          "execution_count": 22
        }
      ]
    },
    {
      "cell_type": "code",
      "source": [
        "df['Running'].value_counts()"
      ],
      "metadata": {
        "colab": {
          "base_uri": "https://localhost:8080/"
        },
        "id": "rSh4rKj252Ds",
        "outputId": "14f488aa-075a-4232-f630-baad2ca94943"
      },
      "execution_count": 23,
      "outputs": [
        {
          "output_type": "execute_result",
          "data": {
            "text/plain": [
              "False    2293\n",
              "True      730\n",
              "Name: Running, dtype: int64"
            ]
          },
          "metadata": {},
          "execution_count": 23
        }
      ]
    },
    {
      "cell_type": "code",
      "source": [
        "df['Specific Location'].value_counts()"
      ],
      "metadata": {
        "colab": {
          "base_uri": "https://localhost:8080/"
        },
        "id": "Up2alT-r5tok",
        "outputId": "02f22ff3-766b-4572-ce9c-a4de6df79f3a"
      },
      "execution_count": 24,
      "outputs": [
        {
          "output_type": "execute_result",
          "data": {
            "text/plain": [
              "tree                                          43\n",
              "in tree                                       32\n",
              "on fence                                       8\n",
              "Tree                                           7\n",
              "treed area                                     6\n",
              "                                              ..\n",
              "Gathering/digging in grassy area b/w trees     1\n",
              "hanging upside down to get a nut               1\n",
              "running on rocks                               1\n",
              "playing very high in tree w/ #7                1\n",
              "Across Transverse                              1\n",
              "Name: Specific Location, Length: 304, dtype: int64"
            ]
          },
          "metadata": {},
          "execution_count": 24
        }
      ]
    },
    {
      "cell_type": "code",
      "source": [
        "df['Above Ground Sighter Measurement'].value_counts()"
      ],
      "metadata": {
        "colab": {
          "base_uri": "https://localhost:8080/"
        },
        "id": "8Tgx7aBT5aJL",
        "outputId": "36904834-6cdc-4cf4-e961-f756db3c3ea5"
      },
      "execution_count": 25,
      "outputs": [
        {
          "output_type": "execute_result",
          "data": {
            "text/plain": [
              "FALSE    2116\n",
              "10        116\n",
              "20         84\n",
              "15         71\n",
              "2          55\n",
              "3          52\n",
              "5          51\n",
              "30         44\n",
              "4          42\n",
              "25         33\n",
              "6          32\n",
              "1          30\n",
              "8          30\n",
              "40         25\n",
              "7          19\n",
              "50         19\n",
              "12         16\n",
              "13         11\n",
              "35         10\n",
              "28          7\n",
              "18          5\n",
              "100         5\n",
              "45          4\n",
              "9           4\n",
              "17          3\n",
              "60          3\n",
              "14          2\n",
              "24          2\n",
              "23          2\n",
              "65          2\n",
              "11          2\n",
              "43          2\n",
              "16          2\n",
              "33          1\n",
              "31          1\n",
              "80          1\n",
              "0           1\n",
              "180         1\n",
              "55          1\n",
              "70          1\n",
              "19          1\n",
              "Name: Above Ground Sighter Measurement, dtype: int64"
            ]
          },
          "metadata": {},
          "execution_count": 25
        }
      ]
    },
    {
      "cell_type": "code",
      "source": [
        "df['Color notes'].value_counts()"
      ],
      "metadata": {
        "colab": {
          "base_uri": "https://localhost:8080/"
        },
        "id": "CYuhvvg65KNd",
        "outputId": "7a5ea135-a7f0-4cb1-f2df-7ffec7a1860e"
      },
      "execution_count": 26,
      "outputs": [
        {
          "output_type": "execute_result",
          "data": {
            "text/plain": [
              "Gray & Cinnamon selected as Primary. White selected as Highlights. Made executive adjustments.                     9\n",
              "white belly                                                                                                        5\n",
              "white back legs                                                                                                    4\n",
              "Gray & Cinnamon selected as Primary. Nothing selected as Highlights. Made executive adjustments.                   4\n",
              "White tail                                                                                                         4\n",
              "                                                                                                                  ..\n",
              "skinny tail                                                                                                        1\n",
              "Drawing included on tally sheet                                                                                    1\n",
              "Black & Cinnamon selected as Primary. White selected as Highlights. Made executive adjustments.                    1\n",
              "very long tail                                                                                                     1\n",
              "Gray & Cinnamon selected as Primary. Gray, Cinnamon & White selected as Highlights. Made executive adjustments.    1\n",
              "Name: Color notes, Length: 135, dtype: int64"
            ]
          },
          "metadata": {},
          "execution_count": 26
        }
      ]
    },
    {
      "cell_type": "code",
      "source": [
        "df['Combination of Primary and Highlight Color'].value_counts()"
      ],
      "metadata": {
        "colab": {
          "base_uri": "https://localhost:8080/"
        },
        "id": "BOepqJ215AFM",
        "outputId": "6620ffd3-b633-4021-b835-af7127124382"
      },
      "execution_count": 27,
      "outputs": [
        {
          "output_type": "execute_result",
          "data": {
            "text/plain": [
              "Gray+                          895\n",
              "Gray+Cinnamon                  752\n",
              "Gray+White                     489\n",
              "Gray+Cinnamon, White           265\n",
              "Cinnamon+Gray                  162\n",
              "Cinnamon+White                  94\n",
              "Black+                          74\n",
              "Cinnamon+                       62\n",
              "Cinnamon+Gray, White            58\n",
              "+                               55\n",
              "Gray+Black, Cinnamon, White     32\n",
              "Gray+Black                      24\n",
              "Black+Cinnamon                  15\n",
              "Cinnamon+Black                  10\n",
              "Gray+Black, Cinnamon             9\n",
              "Black+Gray                       8\n",
              "Gray+Black, White                7\n",
              "Black+Cinnamon, White            3\n",
              "Cinnamon+Black, White            3\n",
              "Cinnamon+Gray, Black             3\n",
              "Black+White                      2\n",
              "Black+Gray, White                1\n",
              "Name: Combination of Primary and Highlight Color, dtype: int64"
            ]
          },
          "metadata": {},
          "execution_count": 27
        }
      ]
    },
    {
      "cell_type": "code",
      "source": [
        "df['Location'].value_counts()"
      ],
      "metadata": {
        "colab": {
          "base_uri": "https://localhost:8080/"
        },
        "id": "sOE8hm4z4kwU",
        "outputId": "496f274d-a503-46e5-f507-6ff137f76061"
      },
      "execution_count": 28,
      "outputs": [
        {
          "output_type": "execute_result",
          "data": {
            "text/plain": [
              "Ground Plane    2116\n",
              "Above Ground     843\n",
              "Name: Location, dtype: int64"
            ]
          },
          "metadata": {},
          "execution_count": 28
        }
      ]
    },
    {
      "cell_type": "code",
      "source": [
        "(df['Kuks']==True).value_counts()"
      ],
      "metadata": {
        "colab": {
          "base_uri": "https://localhost:8080/"
        },
        "id": "8av6w9NU3qyU",
        "outputId": "e2affa01-1842-46c0-cf32-8f397207656a"
      },
      "execution_count": 29,
      "outputs": [
        {
          "output_type": "execute_result",
          "data": {
            "text/plain": [
              "False    2921\n",
              "True      102\n",
              "Name: Kuks, dtype: int64"
            ]
          },
          "metadata": {},
          "execution_count": 29
        }
      ]
    },
    {
      "cell_type": "code",
      "source": [
        "(df['Indifferent']==True).value_counts()"
      ],
      "metadata": {
        "colab": {
          "base_uri": "https://localhost:8080/"
        },
        "id": "vSJDqrYM2dqb",
        "outputId": "4a198ac0-415c-4e57-d2b0-c80d39eede5c"
      },
      "execution_count": 30,
      "outputs": [
        {
          "output_type": "execute_result",
          "data": {
            "text/plain": [
              "False    1569\n",
              "True     1454\n",
              "Name: Indifferent, dtype: int64"
            ]
          },
          "metadata": {},
          "execution_count": 30
        }
      ]
    },
    {
      "cell_type": "markdown",
      "source": [
        "# Dataframe informando o total de esquilos dos hectares conforme suas cores primárias por dia"
      ],
      "metadata": {
        "id": "8SYk6rtdS7Ls"
      }
    },
    {
      "cell_type": "code",
      "source": [
        "df_info = df.groupby([\"New Date\", \"Primary Fur Color\"])[[\"Hectare Squirrel Number\"]].sum().pivot_table(index=\"New Date\", columns=\"Primary Fur Color\")"
      ],
      "metadata": {
        "id": "FIPJolvHe6bk"
      },
      "execution_count": 31,
      "outputs": []
    },
    {
      "cell_type": "code",
      "source": [
        "df_info"
      ],
      "metadata": {
        "colab": {
          "base_uri": "https://localhost:8080/",
          "height": 457
        },
        "id": "06dENkVQiFq8",
        "outputId": "541d5d9d-bed1-4973-b7c0-bd5fcad38486"
      },
      "execution_count": 32,
      "outputs": [
        {
          "output_type": "execute_result",
          "data": {
            "text/plain": [
              "                  Hectare Squirrel Number               \n",
              "Primary Fur Color                   Black Cinnamon  Gray\n",
              "New Date                                                \n",
              "2018-10-06                             67      188  1130\n",
              "2018-10-07                             40      248  1249\n",
              "2018-10-08                             18      213  1174\n",
              "2018-10-10                             15      316  1183\n",
              "2018-10-12                             29      177   619\n",
              "2018-10-13                             51      300  1250\n",
              "2018-10-14                             62       88  1295\n",
              "2018-10-17                             86       74   715\n",
              "2018-10-18                             14      146   567\n",
              "2018-10-19                             26       23   653\n",
              "2018-10-20                              5       27   196"
            ],
            "text/html": [
              "\n",
              "  <div id=\"df-aca2c8a8-22df-4ad1-ba0e-780d37878d60\">\n",
              "    <div class=\"colab-df-container\">\n",
              "      <div>\n",
              "<style scoped>\n",
              "    .dataframe tbody tr th:only-of-type {\n",
              "        vertical-align: middle;\n",
              "    }\n",
              "\n",
              "    .dataframe tbody tr th {\n",
              "        vertical-align: top;\n",
              "    }\n",
              "\n",
              "    .dataframe thead tr th {\n",
              "        text-align: left;\n",
              "    }\n",
              "\n",
              "    .dataframe thead tr:last-of-type th {\n",
              "        text-align: right;\n",
              "    }\n",
              "</style>\n",
              "<table border=\"1\" class=\"dataframe\">\n",
              "  <thead>\n",
              "    <tr>\n",
              "      <th></th>\n",
              "      <th colspan=\"3\" halign=\"left\">Hectare Squirrel Number</th>\n",
              "    </tr>\n",
              "    <tr>\n",
              "      <th>Primary Fur Color</th>\n",
              "      <th>Black</th>\n",
              "      <th>Cinnamon</th>\n",
              "      <th>Gray</th>\n",
              "    </tr>\n",
              "    <tr>\n",
              "      <th>New Date</th>\n",
              "      <th></th>\n",
              "      <th></th>\n",
              "      <th></th>\n",
              "    </tr>\n",
              "  </thead>\n",
              "  <tbody>\n",
              "    <tr>\n",
              "      <th>2018-10-06</th>\n",
              "      <td>67</td>\n",
              "      <td>188</td>\n",
              "      <td>1130</td>\n",
              "    </tr>\n",
              "    <tr>\n",
              "      <th>2018-10-07</th>\n",
              "      <td>40</td>\n",
              "      <td>248</td>\n",
              "      <td>1249</td>\n",
              "    </tr>\n",
              "    <tr>\n",
              "      <th>2018-10-08</th>\n",
              "      <td>18</td>\n",
              "      <td>213</td>\n",
              "      <td>1174</td>\n",
              "    </tr>\n",
              "    <tr>\n",
              "      <th>2018-10-10</th>\n",
              "      <td>15</td>\n",
              "      <td>316</td>\n",
              "      <td>1183</td>\n",
              "    </tr>\n",
              "    <tr>\n",
              "      <th>2018-10-12</th>\n",
              "      <td>29</td>\n",
              "      <td>177</td>\n",
              "      <td>619</td>\n",
              "    </tr>\n",
              "    <tr>\n",
              "      <th>2018-10-13</th>\n",
              "      <td>51</td>\n",
              "      <td>300</td>\n",
              "      <td>1250</td>\n",
              "    </tr>\n",
              "    <tr>\n",
              "      <th>2018-10-14</th>\n",
              "      <td>62</td>\n",
              "      <td>88</td>\n",
              "      <td>1295</td>\n",
              "    </tr>\n",
              "    <tr>\n",
              "      <th>2018-10-17</th>\n",
              "      <td>86</td>\n",
              "      <td>74</td>\n",
              "      <td>715</td>\n",
              "    </tr>\n",
              "    <tr>\n",
              "      <th>2018-10-18</th>\n",
              "      <td>14</td>\n",
              "      <td>146</td>\n",
              "      <td>567</td>\n",
              "    </tr>\n",
              "    <tr>\n",
              "      <th>2018-10-19</th>\n",
              "      <td>26</td>\n",
              "      <td>23</td>\n",
              "      <td>653</td>\n",
              "    </tr>\n",
              "    <tr>\n",
              "      <th>2018-10-20</th>\n",
              "      <td>5</td>\n",
              "      <td>27</td>\n",
              "      <td>196</td>\n",
              "    </tr>\n",
              "  </tbody>\n",
              "</table>\n",
              "</div>\n",
              "      <button class=\"colab-df-convert\" onclick=\"convertToInteractive('df-aca2c8a8-22df-4ad1-ba0e-780d37878d60')\"\n",
              "              title=\"Convert this dataframe to an interactive table.\"\n",
              "              style=\"display:none;\">\n",
              "        \n",
              "  <svg xmlns=\"http://www.w3.org/2000/svg\" height=\"24px\"viewBox=\"0 0 24 24\"\n",
              "       width=\"24px\">\n",
              "    <path d=\"M0 0h24v24H0V0z\" fill=\"none\"/>\n",
              "    <path d=\"M18.56 5.44l.94 2.06.94-2.06 2.06-.94-2.06-.94-.94-2.06-.94 2.06-2.06.94zm-11 1L8.5 8.5l.94-2.06 2.06-.94-2.06-.94L8.5 2.5l-.94 2.06-2.06.94zm10 10l.94 2.06.94-2.06 2.06-.94-2.06-.94-.94-2.06-.94 2.06-2.06.94z\"/><path d=\"M17.41 7.96l-1.37-1.37c-.4-.4-.92-.59-1.43-.59-.52 0-1.04.2-1.43.59L10.3 9.45l-7.72 7.72c-.78.78-.78 2.05 0 2.83L4 21.41c.39.39.9.59 1.41.59.51 0 1.02-.2 1.41-.59l7.78-7.78 2.81-2.81c.8-.78.8-2.07 0-2.86zM5.41 20L4 18.59l7.72-7.72 1.47 1.35L5.41 20z\"/>\n",
              "  </svg>\n",
              "      </button>\n",
              "      \n",
              "  <style>\n",
              "    .colab-df-container {\n",
              "      display:flex;\n",
              "      flex-wrap:wrap;\n",
              "      gap: 12px;\n",
              "    }\n",
              "\n",
              "    .colab-df-convert {\n",
              "      background-color: #E8F0FE;\n",
              "      border: none;\n",
              "      border-radius: 50%;\n",
              "      cursor: pointer;\n",
              "      display: none;\n",
              "      fill: #1967D2;\n",
              "      height: 32px;\n",
              "      padding: 0 0 0 0;\n",
              "      width: 32px;\n",
              "    }\n",
              "\n",
              "    .colab-df-convert:hover {\n",
              "      background-color: #E2EBFA;\n",
              "      box-shadow: 0px 1px 2px rgba(60, 64, 67, 0.3), 0px 1px 3px 1px rgba(60, 64, 67, 0.15);\n",
              "      fill: #174EA6;\n",
              "    }\n",
              "\n",
              "    [theme=dark] .colab-df-convert {\n",
              "      background-color: #3B4455;\n",
              "      fill: #D2E3FC;\n",
              "    }\n",
              "\n",
              "    [theme=dark] .colab-df-convert:hover {\n",
              "      background-color: #434B5C;\n",
              "      box-shadow: 0px 1px 3px 1px rgba(0, 0, 0, 0.15);\n",
              "      filter: drop-shadow(0px 1px 2px rgba(0, 0, 0, 0.3));\n",
              "      fill: #FFFFFF;\n",
              "    }\n",
              "  </style>\n",
              "\n",
              "      <script>\n",
              "        const buttonEl =\n",
              "          document.querySelector('#df-aca2c8a8-22df-4ad1-ba0e-780d37878d60 button.colab-df-convert');\n",
              "        buttonEl.style.display =\n",
              "          google.colab.kernel.accessAllowed ? 'block' : 'none';\n",
              "\n",
              "        async function convertToInteractive(key) {\n",
              "          const element = document.querySelector('#df-aca2c8a8-22df-4ad1-ba0e-780d37878d60');\n",
              "          const dataTable =\n",
              "            await google.colab.kernel.invokeFunction('convertToInteractive',\n",
              "                                                     [key], {});\n",
              "          if (!dataTable) return;\n",
              "\n",
              "          const docLinkHtml = 'Like what you see? Visit the ' +\n",
              "            '<a target=\"_blank\" href=https://colab.research.google.com/notebooks/data_table.ipynb>data table notebook</a>'\n",
              "            + ' to learn more about interactive tables.';\n",
              "          element.innerHTML = '';\n",
              "          dataTable['output_type'] = 'display_data';\n",
              "          await google.colab.output.renderOutput(dataTable, element);\n",
              "          const docLink = document.createElement('div');\n",
              "          docLink.innerHTML = docLinkHtml;\n",
              "          element.appendChild(docLink);\n",
              "        }\n",
              "      </script>\n",
              "    </div>\n",
              "  </div>\n",
              "  "
            ]
          },
          "metadata": {},
          "execution_count": 32
        }
      ]
    },
    {
      "cell_type": "markdown",
      "source": [
        "# Dataframe informando a porcentagem de esquilos dos hectares conforme suas cores primárias pro dia"
      ],
      "metadata": {
        "id": "uAyU_NnBUekU"
      }
    },
    {
      "cell_type": "code",
      "source": [
        "(df_info/(df_info).sum())*100"
      ],
      "metadata": {
        "colab": {
          "base_uri": "https://localhost:8080/",
          "height": 457
        },
        "id": "FViHcQBUiH2k",
        "outputId": "0260e223-efac-46f4-ebda-f48b0a8ca047"
      },
      "execution_count": 33,
      "outputs": [
        {
          "output_type": "execute_result",
          "data": {
            "text/plain": [
              "                  Hectare Squirrel Number                      \n",
              "Primary Fur Color                   Black   Cinnamon       Gray\n",
              "New Date                                                       \n",
              "2018-10-06                      16.222760  10.444444  11.265078\n",
              "2018-10-07                       9.685230  13.777778  12.451401\n",
              "2018-10-08                       4.358354  11.833333  11.703718\n",
              "2018-10-10                       3.631961  17.555556  11.793440\n",
              "2018-10-12                       7.021792   9.833333   6.170870\n",
              "2018-10-13                      12.348668  16.666667  12.461370\n",
              "2018-10-14                      15.012107   4.888889  12.909979\n",
              "2018-10-17                      20.823245   4.111111   7.127903\n",
              "2018-10-18                       3.389831   8.111111   5.652477\n",
              "2018-10-19                       6.295400   1.277778   6.509820\n",
              "2018-10-20                       1.210654   1.500000   1.953943"
            ],
            "text/html": [
              "\n",
              "  <div id=\"df-14de6793-9620-4556-908a-763ffe9dac1d\">\n",
              "    <div class=\"colab-df-container\">\n",
              "      <div>\n",
              "<style scoped>\n",
              "    .dataframe tbody tr th:only-of-type {\n",
              "        vertical-align: middle;\n",
              "    }\n",
              "\n",
              "    .dataframe tbody tr th {\n",
              "        vertical-align: top;\n",
              "    }\n",
              "\n",
              "    .dataframe thead tr th {\n",
              "        text-align: left;\n",
              "    }\n",
              "\n",
              "    .dataframe thead tr:last-of-type th {\n",
              "        text-align: right;\n",
              "    }\n",
              "</style>\n",
              "<table border=\"1\" class=\"dataframe\">\n",
              "  <thead>\n",
              "    <tr>\n",
              "      <th></th>\n",
              "      <th colspan=\"3\" halign=\"left\">Hectare Squirrel Number</th>\n",
              "    </tr>\n",
              "    <tr>\n",
              "      <th>Primary Fur Color</th>\n",
              "      <th>Black</th>\n",
              "      <th>Cinnamon</th>\n",
              "      <th>Gray</th>\n",
              "    </tr>\n",
              "    <tr>\n",
              "      <th>New Date</th>\n",
              "      <th></th>\n",
              "      <th></th>\n",
              "      <th></th>\n",
              "    </tr>\n",
              "  </thead>\n",
              "  <tbody>\n",
              "    <tr>\n",
              "      <th>2018-10-06</th>\n",
              "      <td>16.222760</td>\n",
              "      <td>10.444444</td>\n",
              "      <td>11.265078</td>\n",
              "    </tr>\n",
              "    <tr>\n",
              "      <th>2018-10-07</th>\n",
              "      <td>9.685230</td>\n",
              "      <td>13.777778</td>\n",
              "      <td>12.451401</td>\n",
              "    </tr>\n",
              "    <tr>\n",
              "      <th>2018-10-08</th>\n",
              "      <td>4.358354</td>\n",
              "      <td>11.833333</td>\n",
              "      <td>11.703718</td>\n",
              "    </tr>\n",
              "    <tr>\n",
              "      <th>2018-10-10</th>\n",
              "      <td>3.631961</td>\n",
              "      <td>17.555556</td>\n",
              "      <td>11.793440</td>\n",
              "    </tr>\n",
              "    <tr>\n",
              "      <th>2018-10-12</th>\n",
              "      <td>7.021792</td>\n",
              "      <td>9.833333</td>\n",
              "      <td>6.170870</td>\n",
              "    </tr>\n",
              "    <tr>\n",
              "      <th>2018-10-13</th>\n",
              "      <td>12.348668</td>\n",
              "      <td>16.666667</td>\n",
              "      <td>12.461370</td>\n",
              "    </tr>\n",
              "    <tr>\n",
              "      <th>2018-10-14</th>\n",
              "      <td>15.012107</td>\n",
              "      <td>4.888889</td>\n",
              "      <td>12.909979</td>\n",
              "    </tr>\n",
              "    <tr>\n",
              "      <th>2018-10-17</th>\n",
              "      <td>20.823245</td>\n",
              "      <td>4.111111</td>\n",
              "      <td>7.127903</td>\n",
              "    </tr>\n",
              "    <tr>\n",
              "      <th>2018-10-18</th>\n",
              "      <td>3.389831</td>\n",
              "      <td>8.111111</td>\n",
              "      <td>5.652477</td>\n",
              "    </tr>\n",
              "    <tr>\n",
              "      <th>2018-10-19</th>\n",
              "      <td>6.295400</td>\n",
              "      <td>1.277778</td>\n",
              "      <td>6.509820</td>\n",
              "    </tr>\n",
              "    <tr>\n",
              "      <th>2018-10-20</th>\n",
              "      <td>1.210654</td>\n",
              "      <td>1.500000</td>\n",
              "      <td>1.953943</td>\n",
              "    </tr>\n",
              "  </tbody>\n",
              "</table>\n",
              "</div>\n",
              "      <button class=\"colab-df-convert\" onclick=\"convertToInteractive('df-14de6793-9620-4556-908a-763ffe9dac1d')\"\n",
              "              title=\"Convert this dataframe to an interactive table.\"\n",
              "              style=\"display:none;\">\n",
              "        \n",
              "  <svg xmlns=\"http://www.w3.org/2000/svg\" height=\"24px\"viewBox=\"0 0 24 24\"\n",
              "       width=\"24px\">\n",
              "    <path d=\"M0 0h24v24H0V0z\" fill=\"none\"/>\n",
              "    <path d=\"M18.56 5.44l.94 2.06.94-2.06 2.06-.94-2.06-.94-.94-2.06-.94 2.06-2.06.94zm-11 1L8.5 8.5l.94-2.06 2.06-.94-2.06-.94L8.5 2.5l-.94 2.06-2.06.94zm10 10l.94 2.06.94-2.06 2.06-.94-2.06-.94-.94-2.06-.94 2.06-2.06.94z\"/><path d=\"M17.41 7.96l-1.37-1.37c-.4-.4-.92-.59-1.43-.59-.52 0-1.04.2-1.43.59L10.3 9.45l-7.72 7.72c-.78.78-.78 2.05 0 2.83L4 21.41c.39.39.9.59 1.41.59.51 0 1.02-.2 1.41-.59l7.78-7.78 2.81-2.81c.8-.78.8-2.07 0-2.86zM5.41 20L4 18.59l7.72-7.72 1.47 1.35L5.41 20z\"/>\n",
              "  </svg>\n",
              "      </button>\n",
              "      \n",
              "  <style>\n",
              "    .colab-df-container {\n",
              "      display:flex;\n",
              "      flex-wrap:wrap;\n",
              "      gap: 12px;\n",
              "    }\n",
              "\n",
              "    .colab-df-convert {\n",
              "      background-color: #E8F0FE;\n",
              "      border: none;\n",
              "      border-radius: 50%;\n",
              "      cursor: pointer;\n",
              "      display: none;\n",
              "      fill: #1967D2;\n",
              "      height: 32px;\n",
              "      padding: 0 0 0 0;\n",
              "      width: 32px;\n",
              "    }\n",
              "\n",
              "    .colab-df-convert:hover {\n",
              "      background-color: #E2EBFA;\n",
              "      box-shadow: 0px 1px 2px rgba(60, 64, 67, 0.3), 0px 1px 3px 1px rgba(60, 64, 67, 0.15);\n",
              "      fill: #174EA6;\n",
              "    }\n",
              "\n",
              "    [theme=dark] .colab-df-convert {\n",
              "      background-color: #3B4455;\n",
              "      fill: #D2E3FC;\n",
              "    }\n",
              "\n",
              "    [theme=dark] .colab-df-convert:hover {\n",
              "      background-color: #434B5C;\n",
              "      box-shadow: 0px 1px 3px 1px rgba(0, 0, 0, 0.15);\n",
              "      filter: drop-shadow(0px 1px 2px rgba(0, 0, 0, 0.3));\n",
              "      fill: #FFFFFF;\n",
              "    }\n",
              "  </style>\n",
              "\n",
              "      <script>\n",
              "        const buttonEl =\n",
              "          document.querySelector('#df-14de6793-9620-4556-908a-763ffe9dac1d button.colab-df-convert');\n",
              "        buttonEl.style.display =\n",
              "          google.colab.kernel.accessAllowed ? 'block' : 'none';\n",
              "\n",
              "        async function convertToInteractive(key) {\n",
              "          const element = document.querySelector('#df-14de6793-9620-4556-908a-763ffe9dac1d');\n",
              "          const dataTable =\n",
              "            await google.colab.kernel.invokeFunction('convertToInteractive',\n",
              "                                                     [key], {});\n",
              "          if (!dataTable) return;\n",
              "\n",
              "          const docLinkHtml = 'Like what you see? Visit the ' +\n",
              "            '<a target=\"_blank\" href=https://colab.research.google.com/notebooks/data_table.ipynb>data table notebook</a>'\n",
              "            + ' to learn more about interactive tables.';\n",
              "          element.innerHTML = '';\n",
              "          dataTable['output_type'] = 'display_data';\n",
              "          await google.colab.output.renderOutput(dataTable, element);\n",
              "          const docLink = document.createElement('div');\n",
              "          docLink.innerHTML = docLinkHtml;\n",
              "          element.appendChild(docLink);\n",
              "        }\n",
              "      </script>\n",
              "    </div>\n",
              "  </div>\n",
              "  "
            ]
          },
          "metadata": {},
          "execution_count": 33
        }
      ]
    },
    {
      "cell_type": "markdown",
      "source": [
        "# Gráfico informando a quantidade de esquilos conforme as cores"
      ],
      "metadata": {
        "id": "fHCRMOn3UxAl"
      }
    },
    {
      "cell_type": "code",
      "source": [
        "sns.displot(df['Primary Fur Color'])"
      ],
      "metadata": {
        "colab": {
          "base_uri": "https://localhost:8080/",
          "height": 386
        },
        "id": "q2V_nMzZNeOT",
        "outputId": "59aa4eb1-9e75-4424-efa1-e05cc777ae37"
      },
      "execution_count": 34,
      "outputs": [
        {
          "output_type": "execute_result",
          "data": {
            "text/plain": [
              "<seaborn.axisgrid.FacetGrid at 0x7f61643f1e50>"
            ]
          },
          "metadata": {},
          "execution_count": 34
        },
        {
          "output_type": "display_data",
          "data": {
            "text/plain": [
              "<Figure size 360x360 with 1 Axes>"
            ],
            "image/png": "[encoded data removed]"
          },
          "metadata": {
            "needs_background": "light"
          }
        }
      ]
    },
    {
      "cell_type": "markdown",
      "source": [
        "# Frequência das cores dos esquilos\n"
      ],
      "metadata": {
        "id": "CjVbHxP7U98c"
      }
    },
    {
      "cell_type": "code",
      "source": [
        "df_sq_percent = df['Primary Fur Color'].value_counts()"
      ],
      "metadata": {
        "id": "AIZJnsnZRTs0"
      },
      "execution_count": 35,
      "outputs": []
    },
    {
      "cell_type": "code",
      "source": [
        "df_sq_percent"
      ],
      "metadata": {
        "colab": {
          "base_uri": "https://localhost:8080/"
        },
        "id": "N0Vrb8gqSbcE",
        "outputId": "ad07f610-8968-415c-9660-06d3cd1c0fc1"
      },
      "execution_count": 36,
      "outputs": [
        {
          "output_type": "execute_result",
          "data": {
            "text/plain": [
              "Gray        2473\n",
              "Cinnamon     392\n",
              "Black        103\n",
              "Name: Primary Fur Color, dtype: int64"
            ]
          },
          "metadata": {},
          "execution_count": 36
        }
      ]
    },
    {
      "cell_type": "markdown",
      "source": [
        "# Porcentagem da frequência das cores dos esquilos"
      ],
      "metadata": {
        "id": "6TXiSgHtVIoM"
      }
    },
    {
      "cell_type": "code",
      "source": [
        "(df_sq_percent/(df_sq_percent).sum())*100"
      ],
      "metadata": {
        "colab": {
          "base_uri": "https://localhost:8080/"
        },
        "id": "d8I6jKMPSdbk",
        "outputId": "15a2b2a9-67d4-4fa7-c30d-5434728daaab"
      },
      "execution_count": 37,
      "outputs": [
        {
          "output_type": "execute_result",
          "data": {
            "text/plain": [
              "Gray        83.322102\n",
              "Cinnamon    13.207547\n",
              "Black        3.470350\n",
              "Name: Primary Fur Color, dtype: float64"
            ]
          },
          "metadata": {},
          "execution_count": 37
        }
      ]
    },
    {
      "cell_type": "markdown",
      "source": [
        "# Gráfico informando a frequência de esquilos jovens e adultos"
      ],
      "metadata": {
        "id": "I2ho9-3uVO3U"
      }
    },
    {
      "cell_type": "code",
      "source": [
        "sns.displot(df['Age'])"
      ],
      "metadata": {
        "colab": {
          "base_uri": "https://localhost:8080/",
          "height": 386
        },
        "id": "wk4BEjvwN-pd",
        "outputId": "f47c9265-74d8-4749-81c4-de067b2b0af8"
      },
      "execution_count": 38,
      "outputs": [
        {
          "output_type": "execute_result",
          "data": {
            "text/plain": [
              "<seaborn.axisgrid.FacetGrid at 0x7f61646f1190>"
            ]
          },
          "metadata": {},
          "execution_count": 38
        },
        {
          "output_type": "display_data",
          "data": {
            "text/plain": [
              "<Figure size 360x360 with 1 Axes>"
            ],
            "image/png": "[encoded data removed]"
          },
          "metadata": {
            "needs_background": "light"
          }
        }
      ]
    },
    {
      "cell_type": "code",
      "source": [
        "df_sq_percent_age = df['Age'].value_counts()"
      ],
      "metadata": {
        "id": "_rRdXgmlT8eV"
      },
      "execution_count": 39,
      "outputs": []
    },
    {
      "cell_type": "markdown",
      "source": [],
      "metadata": {
        "id": "RehfAtp7VhUM"
      }
    },
    {
      "cell_type": "markdown",
      "source": [
        "# Frequência no dataframe dos esquilos conforme suas faixas etárias em ordem decrescente"
      ],
      "metadata": {
        "id": "SwegqSPyVlkF"
      }
    },
    {
      "cell_type": "code",
      "source": [
        "df_sq_percent_age"
      ],
      "metadata": {
        "colab": {
          "base_uri": "https://localhost:8080/"
        },
        "id": "80h4-SVLUAFc",
        "outputId": "560662e8-652a-4ca4-9d14-d88df5151bcb"
      },
      "execution_count": 40,
      "outputs": [
        {
          "output_type": "execute_result",
          "data": {
            "text/plain": [
              "Adult       2568\n",
              "Juvenile     330\n",
              "?              4\n",
              "Name: Age, dtype: int64"
            ]
          },
          "metadata": {},
          "execution_count": 40
        }
      ]
    },
    {
      "cell_type": "markdown",
      "source": [
        "# Porcentagem da frequência de esquilos conforme suas faixas etárias"
      ],
      "metadata": {
        "id": "oJA66070WIqE"
      }
    },
    {
      "cell_type": "code",
      "source": [
        "(df_sq_percent_age/(df_sq_percent_age).sum())*100"
      ],
      "metadata": {
        "colab": {
          "base_uri": "https://localhost:8080/"
        },
        "id": "DkPIv77NUG00",
        "outputId": "4f5d9a01-a592-43db-bb11-8054ba014219"
      },
      "execution_count": 41,
      "outputs": [
        {
          "output_type": "execute_result",
          "data": {
            "text/plain": [
              "Adult       88.490696\n",
              "Juvenile    11.371468\n",
              "?            0.137836\n",
              "Name: Age, dtype: float64"
            ]
          },
          "metadata": {},
          "execution_count": 41
        }
      ]
    },
    {
      "cell_type": "markdown",
      "source": [
        "# Frequência de aparições dos esquilos no dia"
      ],
      "metadata": {
        "id": "XVFTVvUiWUa0"
      }
    },
    {
      "cell_type": "code",
      "source": [
        "sns.displot(df['Shift'])\n"
      ],
      "metadata": {
        "colab": {
          "base_uri": "https://localhost:8080/",
          "height": 386
        },
        "id": "n7F86cjOOoYk",
        "outputId": "48fa1337-4142-430d-baa3-8989ea6514ec"
      },
      "execution_count": 42,
      "outputs": [
        {
          "output_type": "execute_result",
          "data": {
            "text/plain": [
              "<seaborn.axisgrid.FacetGrid at 0x7f61643f1160>"
            ]
          },
          "metadata": {},
          "execution_count": 42
        },
        {
          "output_type": "display_data",
          "data": {
            "text/plain": [
              "<Figure size 360x360 with 1 Axes>"
            ],
            "image/png": "[encoded data removed]"
          },
          "metadata": {
            "needs_background": "light"
          }
        }
      ]
    },
    {
      "cell_type": "markdown",
      "source": [
        "# Informações dos tipos das colunas do dataframe"
      ],
      "metadata": {
        "id": "3nxIcpQpWj01"
      }
    },
    {
      "cell_type": "code",
      "source": [
        "df.info()"
      ],
      "metadata": {
        "colab": {
          "base_uri": "https://localhost:8080/"
        },
        "id": "Z0tkwi44uKaE",
        "outputId": "1fedd3d7-b8f2-49e1-e93e-5f1956b2c553"
      },
      "execution_count": 43,
      "outputs": [
        {
          "output_type": "stream",
          "name": "stdout",
          "text": [
            "<class 'pandas.core.frame.DataFrame'>\n",
            "RangeIndex: 3023 entries, 0 to 3022\n",
            "Data columns (total 32 columns):\n",
            " #   Column                                      Non-Null Count  Dtype         \n",
            "---  ------                                      --------------  -----         \n",
            " 0   X                                           3023 non-null   float64       \n",
            " 1   Y                                           3023 non-null   float64       \n",
            " 2   Unique Squirrel ID                          3023 non-null   object        \n",
            " 3   Hectare                                     3023 non-null   object        \n",
            " 4   Shift                                       3023 non-null   object        \n",
            " 5   Date                                        3023 non-null   int64         \n",
            " 6   Hectare Squirrel Number                     3023 non-null   int64         \n",
            " 7   Age                                         2902 non-null   object        \n",
            " 8   Primary Fur Color                           2968 non-null   object        \n",
            " 9   Highlight Fur Color                         1937 non-null   object        \n",
            " 10  Combination of Primary and Highlight Color  3023 non-null   object        \n",
            " 11  Color notes                                 182 non-null    object        \n",
            " 12  Location                                    2959 non-null   object        \n",
            " 13  Above Ground Sighter Measurement            2909 non-null   object        \n",
            " 14  Specific Location                           476 non-null    object        \n",
            " 15  Running                                     3023 non-null   bool          \n",
            " 16  Chasing                                     3023 non-null   bool          \n",
            " 17  Climbing                                    3023 non-null   bool          \n",
            " 18  Eating                                      3023 non-null   bool          \n",
            " 19  Foraging                                    3023 non-null   bool          \n",
            " 20  Other Activities                            437 non-null    object        \n",
            " 21  Kuks                                        3023 non-null   bool          \n",
            " 22  Quaas                                       3023 non-null   bool          \n",
            " 23  Moans                                       3023 non-null   bool          \n",
            " 24  Tail flags                                  3023 non-null   bool          \n",
            " 25  Tail twitches                               3023 non-null   bool          \n",
            " 26  Approaches                                  3023 non-null   bool          \n",
            " 27  Indifferent                                 3023 non-null   bool          \n",
            " 28  Runs from                                   3023 non-null   bool          \n",
            " 29  Other Interactions                          240 non-null    object        \n",
            " 30  Lat/Long                                    3023 non-null   object        \n",
            " 31  New Date                                    3023 non-null   datetime64[ns]\n",
            "dtypes: bool(13), datetime64[ns](1), float64(2), int64(2), object(14)\n",
            "memory usage: 487.2+ KB\n"
          ]
        }
      ]
    },
    {
      "cell_type": "markdown",
      "source": [
        "# Total de aparições de esquilos por hectares conforme as cores"
      ],
      "metadata": {
        "id": "3xPWI464YRBj"
      }
    },
    {
      "cell_type": "code",
      "source": [
        "tips = df.groupby('Primary Fur Color')['Hectare Squirrel Number'].sum()"
      ],
      "metadata": {
        "id": "qrwukl4gvoMA"
      },
      "execution_count": 44,
      "outputs": []
    },
    {
      "cell_type": "code",
      "source": [
        "tips"
      ],
      "metadata": {
        "colab": {
          "base_uri": "https://localhost:8080/"
        },
        "id": "x-LpaRPDwcPR",
        "outputId": "f84f0f86-e8cb-4e00-c97a-4e9f161d8d5e"
      },
      "execution_count": 45,
      "outputs": [
        {
          "output_type": "execute_result",
          "data": {
            "text/plain": [
              "Primary Fur Color\n",
              "Black         413\n",
              "Cinnamon     1800\n",
              "Gray        10031\n",
              "Name: Hectare Squirrel Number, dtype: int64"
            ]
          },
          "metadata": {},
          "execution_count": 45
        }
      ]
    },
    {
      "cell_type": "markdown",
      "source": [
        "# Dataframe filtrando apenas para esquilos de cor cinza"
      ],
      "metadata": {
        "id": "68JxEf8HYo3M"
      }
    },
    {
      "cell_type": "code",
      "source": [
        "df[df['Primary Fur Color'] == 'Gray']"
      ],
      "metadata": {
        "colab": {
          "base_uri": "https://localhost:8080/",
          "height": 869
        },
        "id": "nNVBqst8uQ-f",
        "outputId": "05fa2506-463c-43a8-e33d-89be0c38f1ad"
      },
      "execution_count": 46,
      "outputs": [
        {
          "output_type": "execute_result",
          "data": {
            "text/plain": [
              "              X          Y Unique Squirrel ID Hectare Shift      Date  \\\n",
              "1    -73.957044  40.794851     37E-PM-1006-03     37E    PM  10062018   \n",
              "3    -73.975725  40.769703      5D-PM-1018-05     05D    PM  10182018   \n",
              "5    -73.956570  40.790256     33H-AM-1019-02     33H    AM  10192018   \n",
              "6    -73.971974  40.769305      6G-PM-1020-02     06G    PM  10202018   \n",
              "7    -73.960261  40.794288     35C-PM-1013-03     35C    PM  10132018   \n",
              "...         ...        ...                ...     ...   ...       ...   \n",
              "3016 -73.966290  40.784330     23C-AM-1019-01     23C    AM  10192018   \n",
              "3018 -73.963943  40.790868     30B-AM-1007-04     30B    AM  10072018   \n",
              "3019 -73.970402  40.782560     19A-PM-1013-05     19A    PM  10132018   \n",
              "3020 -73.966587  40.783678     22D-PM-1012-07     22D    PM  10122018   \n",
              "3021 -73.963994  40.789915     29B-PM-1010-02     29B    PM  10102018   \n",
              "\n",
              "      Hectare Squirrel Number       Age Primary Fur Color  \\\n",
              "1                           3     Adult              Gray   \n",
              "3                           5  Juvenile              Gray   \n",
              "5                           2  Juvenile              Gray   \n",
              "6                           2     Adult              Gray   \n",
              "7                           3       NaN              Gray   \n",
              "...                       ...       ...               ...   \n",
              "3016                        1     Adult              Gray   \n",
              "3018                        4     Adult              Gray   \n",
              "3019                        5     Adult              Gray   \n",
              "3020                        7     Adult              Gray   \n",
              "3021                        2       NaN              Gray   \n",
              "\n",
              "         Highlight Fur Color  ...  Quaas  Moans Tail flags Tail twitches  \\\n",
              "1                   Cinnamon  ...  False  False      False         False   \n",
              "3                        NaN  ...  False  False      False         False   \n",
              "5                   Cinnamon  ...  False  False      False         False   \n",
              "6                        NaN  ...  False  False      False         False   \n",
              "7                   Cinnamon  ...  False  False      False         False   \n",
              "...                      ...  ...    ...    ...        ...           ...   \n",
              "3016         Cinnamon, White  ...  False  False      False         False   \n",
              "3018                     NaN  ...  False  False      False         False   \n",
              "3019                   White  ...  False  False      False         False   \n",
              "3020  Black, Cinnamon, White  ...  False  False      False         False   \n",
              "3021         Cinnamon, White  ...  False  False      False         False   \n",
              "\n",
              "     Approaches  Indifferent  Runs from  Other Interactions  \\\n",
              "1         False        False       True                  me   \n",
              "3         False        False       True                 NaN   \n",
              "5         False        False      False                 NaN   \n",
              "6         False         True      False                 NaN   \n",
              "7         False        False       True                 NaN   \n",
              "...         ...          ...        ...                 ...   \n",
              "3016      False         True      False                 NaN   \n",
              "3018      False        False       True                 NaN   \n",
              "3019      False         True      False                 NaN   \n",
              "3020      False         True      False                 NaN   \n",
              "3021      False         True      False                 NaN   \n",
              "\n",
              "                                          Lat/Long   New Date  \n",
              "1     POINT (-73.9570437717691 40.794850940803904) 2018-10-06  \n",
              "3       POINT (-73.9757249834141 40.7697032606755) 2018-10-18  \n",
              "5       POINT (-73.9565700386162 40.7902561000937) 2018-10-19  \n",
              "6       POINT (-73.9719735582476 40.7693045133578) 2018-10-20  \n",
              "7      POINT (-73.9602609920814 40.79428830455661) 2018-10-13  \n",
              "...                                            ...        ...  \n",
              "3016    POINT (-73.9662895079734 40.7843300758044) 2018-10-19  \n",
              "3018    POINT (-73.9639431360458 40.7908677445466) 2018-10-07  \n",
              "3019    POINT (-73.9704015859639 40.7825600069973) 2018-10-13  \n",
              "3020    POINT (-73.9665871993517 40.7836775064883) 2018-10-12  \n",
              "3021    POINT (-73.9639941227864 40.7899152327912) 2018-10-10  \n",
              "\n",
              "[2473 rows x 32 columns]"
            ],
            "text/html": [
              "\n",
              "  <div id=\"df-522261c9-8a2c-4e8d-b1be-b7c9da5b140f\">\n",
              "    <div class=\"colab-df-container\">\n",
              "      <div>\n",
              "<style scoped>\n",
              "    .dataframe tbody tr th:only-of-type {\n",
              "        vertical-align: middle;\n",
              "    }\n",
              "\n",
              "    .dataframe tbody tr th {\n",
              "        vertical-align: top;\n",
              "    }\n",
              "\n",
              "    .dataframe thead th {\n",
              "        text-align: right;\n",
              "    }\n",
              "</style>\n",
              "<table border=\"1\" class=\"dataframe\">\n",
              "  <thead>\n",
              "    <tr style=\"text-align: right;\">\n",
              "      <th></th>\n",
              "      <th>X</th>\n",
              "      <th>Y</th>\n",
              "      <th>Unique Squirrel ID</th>\n",
              "      <th>Hectare</th>\n",
              "      <th>Shift</th>\n",
              "      <th>Date</th>\n",
              "      <th>Hectare Squirrel Number</th>\n",
              "      <th>Age</th>\n",
              "      <th>Primary Fur Color</th>\n",
              "      <th>Highlight Fur Color</th>\n",
              "      <th>...</th>\n",
              "      <th>Quaas</th>\n",
              "      <th>Moans</th>\n",
              "      <th>Tail flags</th>\n",
              "      <th>Tail twitches</th>\n",
              "      <th>Approaches</th>\n",
              "      <th>Indifferent</th>\n",
              "      <th>Runs from</th>\n",
              "      <th>Other Interactions</th>\n",
              "      <th>Lat/Long</th>\n",
              "      <th>New Date</th>\n",
              "    </tr>\n",
              "  </thead>\n",
              "  <tbody>\n",
              "    <tr>\n",
              "      <th>1</th>\n",
              "      <td>-73.957044</td>\n",
              "      <td>40.794851</td>\n",
              "      <td>37E-PM-1006-03</td>\n",
              "      <td>37E</td>\n",
              "      <td>PM</td>\n",
              "      <td>10062018</td>\n",
              "      <td>3</td>\n",
              "      <td>Adult</td>\n",
              "      <td>Gray</td>\n",
              "      <td>Cinnamon</td>\n",
              "      <td>...</td>\n",
              "      <td>False</td>\n",
              "      <td>False</td>\n",
              "      <td>False</td>\n",
              "      <td>False</td>\n",
              "      <td>False</td>\n",
              "      <td>False</td>\n",
              "      <td>True</td>\n",
              "      <td>me</td>\n",
              "      <td>POINT (-73.9570437717691 40.794850940803904)</td>\n",
              "      <td>2018-10-06</td>\n",
              "    </tr>\n",
              "    <tr>\n",
              "      <th>3</th>\n",
              "      <td>-73.975725</td>\n",
              "      <td>40.769703</td>\n",
              "      <td>5D-PM-1018-05</td>\n",
              "      <td>05D</td>\n",
              "      <td>PM</td>\n",
              "      <td>10182018</td>\n",
              "      <td>5</td>\n",
              "      <td>Juvenile</td>\n",
              "      <td>Gray</td>\n",
              "      <td>NaN</td>\n",
              "      <td>...</td>\n",
              "      <td>False</td>\n",
              "      <td>False</td>\n",
              "      <td>False</td>\n",
              "      <td>False</td>\n",
              "      <td>False</td>\n",
              "      <td>False</td>\n",
              "      <td>True</td>\n",
              "      <td>NaN</td>\n",
              "      <td>POINT (-73.9757249834141 40.7697032606755)</td>\n",
              "      <td>2018-10-18</td>\n",
              "    </tr>\n",
              "    <tr>\n",
              "      <th>5</th>\n",
              "      <td>-73.956570</td>\n",
              "      <td>40.790256</td>\n",
              "      <td>33H-AM-1019-02</td>\n",
              "      <td>33H</td>\n",
              "      <td>AM</td>\n",
              "      <td>10192018</td>\n",
              "      <td>2</td>\n",
              "      <td>Juvenile</td>\n",
              "      <td>Gray</td>\n",
              "      <td>Cinnamon</td>\n",
              "      <td>...</td>\n",
              "      <td>False</td>\n",
              "      <td>False</td>\n",
              "      <td>False</td>\n",
              "      <td>False</td>\n",
              "      <td>False</td>\n",
              "      <td>False</td>\n",
              "      <td>False</td>\n",
              "      <td>NaN</td>\n",
              "      <td>POINT (-73.9565700386162 40.7902561000937)</td>\n",
              "      <td>2018-10-19</td>\n",
              "    </tr>\n",
              "    <tr>\n",
              "      <th>6</th>\n",
              "      <td>-73.971974</td>\n",
              "      <td>40.769305</td>\n",
              "      <td>6G-PM-1020-02</td>\n",
              "      <td>06G</td>\n",
              "      <td>PM</td>\n",
              "      <td>10202018</td>\n",
              "      <td>2</td>\n",
              "      <td>Adult</td>\n",
              "      <td>Gray</td>\n",
              "      <td>NaN</td>\n",
              "      <td>...</td>\n",
              "      <td>False</td>\n",
              "      <td>False</td>\n",
              "      <td>False</td>\n",
              "      <td>False</td>\n",
              "      <td>False</td>\n",
              "      <td>True</td>\n",
              "      <td>False</td>\n",
              "      <td>NaN</td>\n",
              "      <td>POINT (-73.9719735582476 40.7693045133578)</td>\n",
              "      <td>2018-10-20</td>\n",
              "    </tr>\n",
              "    <tr>\n",
              "      <th>7</th>\n",
              "      <td>-73.960261</td>\n",
              "      <td>40.794288</td>\n",
              "      <td>35C-PM-1013-03</td>\n",
              "      <td>35C</td>\n",
              "      <td>PM</td>\n",
              "      <td>10132018</td>\n",
              "      <td>3</td>\n",
              "      <td>NaN</td>\n",
              "      <td>Gray</td>\n",
              "      <td>Cinnamon</td>\n",
              "      <td>...</td>\n",
              "      <td>False</td>\n",
              "      <td>False</td>\n",
              "      <td>False</td>\n",
              "      <td>False</td>\n",
              "      <td>False</td>\n",
              "      <td>False</td>\n",
              "      <td>True</td>\n",
              "      <td>NaN</td>\n",
              "      <td>POINT (-73.9602609920814 40.79428830455661)</td>\n",
              "      <td>2018-10-13</td>\n",
              "    </tr>\n",
              "    <tr>\n",
              "      <th>...</th>\n",
              "      <td>...</td>\n",
              "      <td>...</td>\n",
              "      <td>...</td>\n",
              "      <td>...</td>\n",
              "      <td>...</td>\n",
              "      <td>...</td>\n",
              "      <td>...</td>\n",
              "      <td>...</td>\n",
              "      <td>...</td>\n",
              "      <td>...</td>\n",
              "      <td>...</td>\n",
              "      <td>...</td>\n",
              "      <td>...</td>\n",
              "      <td>...</td>\n",
              "      <td>...</td>\n",
              "      <td>...</td>\n",
              "      <td>...</td>\n",
              "      <td>...</td>\n",
              "      <td>...</td>\n",
              "      <td>...</td>\n",
              "      <td>...</td>\n",
              "    </tr>\n",
              "    <tr>\n",
              "      <th>3016</th>\n",
              "      <td>-73.966290</td>\n",
              "      <td>40.784330</td>\n",
              "      <td>23C-AM-1019-01</td>\n",
              "      <td>23C</td>\n",
              "      <td>AM</td>\n",
              "      <td>10192018</td>\n",
              "      <td>1</td>\n",
              "      <td>Adult</td>\n",
              "      <td>Gray</td>\n",
              "      <td>Cinnamon, White</td>\n",
              "      <td>...</td>\n",
              "      <td>False</td>\n",
              "      <td>False</td>\n",
              "      <td>False</td>\n",
              "      <td>False</td>\n",
              "      <td>False</td>\n",
              "      <td>True</td>\n",
              "      <td>False</td>\n",
              "      <td>NaN</td>\n",
              "      <td>POINT (-73.9662895079734 40.7843300758044)</td>\n",
              "      <td>2018-10-19</td>\n",
              "    </tr>\n",
              "    <tr>\n",
              "      <th>3018</th>\n",
              "      <td>-73.963943</td>\n",
              "      <td>40.790868</td>\n",
              "      <td>30B-AM-1007-04</td>\n",
              "      <td>30B</td>\n",
              "      <td>AM</td>\n",
              "      <td>10072018</td>\n",
              "      <td>4</td>\n",
              "      <td>Adult</td>\n",
              "      <td>Gray</td>\n",
              "      <td>NaN</td>\n",
              "      <td>...</td>\n",
              "      <td>False</td>\n",
              "      <td>False</td>\n",
              "      <td>False</td>\n",
              "      <td>False</td>\n",
              "      <td>False</td>\n",
              "      <td>False</td>\n",
              "      <td>True</td>\n",
              "      <td>NaN</td>\n",
              "      <td>POINT (-73.9639431360458 40.7908677445466)</td>\n",
              "      <td>2018-10-07</td>\n",
              "    </tr>\n",
              "    <tr>\n",
              "      <th>3019</th>\n",
              "      <td>-73.970402</td>\n",
              "      <td>40.782560</td>\n",
              "      <td>19A-PM-1013-05</td>\n",
              "      <td>19A</td>\n",
              "      <td>PM</td>\n",
              "      <td>10132018</td>\n",
              "      <td>5</td>\n",
              "      <td>Adult</td>\n",
              "      <td>Gray</td>\n",
              "      <td>White</td>\n",
              "      <td>...</td>\n",
              "      <td>False</td>\n",
              "      <td>False</td>\n",
              "      <td>False</td>\n",
              "      <td>False</td>\n",
              "      <td>False</td>\n",
              "      <td>True</td>\n",
              "      <td>False</td>\n",
              "      <td>NaN</td>\n",
              "      <td>POINT (-73.9704015859639 40.7825600069973)</td>\n",
              "      <td>2018-10-13</td>\n",
              "    </tr>\n",
              "    <tr>\n",
              "      <th>3020</th>\n",
              "      <td>-73.966587</td>\n",
              "      <td>40.783678</td>\n",
              "      <td>22D-PM-1012-07</td>\n",
              "      <td>22D</td>\n",
              "      <td>PM</td>\n",
              "      <td>10122018</td>\n",
              "      <td>7</td>\n",
              "      <td>Adult</td>\n",
              "      <td>Gray</td>\n",
              "      <td>Black, Cinnamon, White</td>\n",
              "      <td>...</td>\n",
              "      <td>False</td>\n",
              "      <td>False</td>\n",
              "      <td>False</td>\n",
              "      <td>False</td>\n",
              "      <td>False</td>\n",
              "      <td>True</td>\n",
              "      <td>False</td>\n",
              "      <td>NaN</td>\n",
              "      <td>POINT (-73.9665871993517 40.7836775064883)</td>\n",
              "      <td>2018-10-12</td>\n",
              "    </tr>\n",
              "    <tr>\n",
              "      <th>3021</th>\n",
              "      <td>-73.963994</td>\n",
              "      <td>40.789915</td>\n",
              "      <td>29B-PM-1010-02</td>\n",
              "      <td>29B</td>\n",
              "      <td>PM</td>\n",
              "      <td>10102018</td>\n",
              "      <td>2</td>\n",
              "      <td>NaN</td>\n",
              "      <td>Gray</td>\n",
              "      <td>Cinnamon, White</td>\n",
              "      <td>...</td>\n",
              "      <td>False</td>\n",
              "      <td>False</td>\n",
              "      <td>False</td>\n",
              "      <td>False</td>\n",
              "      <td>False</td>\n",
              "      <td>True</td>\n",
              "      <td>False</td>\n",
              "      <td>NaN</td>\n",
              "      <td>POINT (-73.9639941227864 40.7899152327912)</td>\n",
              "      <td>2018-10-10</td>\n",
              "    </tr>\n",
              "  </tbody>\n",
              "</table>\n",
              "<p>2473 rows × 32 columns</p>\n",
              "</div>\n",
              "      <button class=\"colab-df-convert\" onclick=\"convertToInteractive('df-522261c9-8a2c-4e8d-b1be-b7c9da5b140f')\"\n",
              "              title=\"Convert this dataframe to an interactive table.\"\n",
              "              style=\"display:none;\">\n",
              "        \n",
              "  <svg xmlns=\"http://www.w3.org/2000/svg\" height=\"24px\"viewBox=\"0 0 24 24\"\n",
              "       width=\"24px\">\n",
              "    <path d=\"M0 0h24v24H0V0z\" fill=\"none\"/>\n",
              "    <path d=\"M18.56 5.44l.94 2.06.94-2.06 2.06-.94-2.06-.94-.94-2.06-.94 2.06-2.06.94zm-11 1L8.5 8.5l.94-2.06 2.06-.94-2.06-.94L8.5 2.5l-.94 2.06-2.06.94zm10 10l.94 2.06.94-2.06 2.06-.94-2.06-.94-.94-2.06-.94 2.06-2.06.94z\"/><path d=\"M17.41 7.96l-1.37-1.37c-.4-.4-.92-.59-1.43-.59-.52 0-1.04.2-1.43.59L10.3 9.45l-7.72 7.72c-.78.78-.78 2.05 0 2.83L4 21.41c.39.39.9.59 1.41.59.51 0 1.02-.2 1.41-.59l7.78-7.78 2.81-2.81c.8-.78.8-2.07 0-2.86zM5.41 20L4 18.59l7.72-7.72 1.47 1.35L5.41 20z\"/>\n",
              "  </svg>\n",
              "      </button>\n",
              "      \n",
              "  <style>\n",
              "    .colab-df-container {\n",
              "      display:flex;\n",
              "      flex-wrap:wrap;\n",
              "      gap: 12px;\n",
              "    }\n",
              "\n",
              "    .colab-df-convert {\n",
              "      background-color: #E8F0FE;\n",
              "      border: none;\n",
              "      border-radius: 50%;\n",
              "      cursor: pointer;\n",
              "      display: none;\n",
              "      fill: #1967D2;\n",
              "      height: 32px;\n",
              "      padding: 0 0 0 0;\n",
              "      width: 32px;\n",
              "    }\n",
              "\n",
              "    .colab-df-convert:hover {\n",
              "      background-color: #E2EBFA;\n",
              "      box-shadow: 0px 1px 2px rgba(60, 64, 67, 0.3), 0px 1px 3px 1px rgba(60, 64, 67, 0.15);\n",
              "      fill: #174EA6;\n",
              "    }\n",
              "\n",
              "    [theme=dark] .colab-df-convert {\n",
              "      background-color: #3B4455;\n",
              "      fill: #D2E3FC;\n",
              "    }\n",
              "\n",
              "    [theme=dark] .colab-df-convert:hover {\n",
              "      background-color: #434B5C;\n",
              "      box-shadow: 0px 1px 3px 1px rgba(0, 0, 0, 0.15);\n",
              "      filter: drop-shadow(0px 1px 2px rgba(0, 0, 0, 0.3));\n",
              "      fill: #FFFFFF;\n",
              "    }\n",
              "  </style>\n",
              "\n",
              "      <script>\n",
              "        const buttonEl =\n",
              "          document.querySelector('#df-522261c9-8a2c-4e8d-b1be-b7c9da5b140f button.colab-df-convert');\n",
              "        buttonEl.style.display =\n",
              "          google.colab.kernel.accessAllowed ? 'block' : 'none';\n",
              "\n",
              "        async function convertToInteractive(key) {\n",
              "          const element = document.querySelector('#df-522261c9-8a2c-4e8d-b1be-b7c9da5b140f');\n",
              "          const dataTable =\n",
              "            await google.colab.kernel.invokeFunction('convertToInteractive',\n",
              "                                                     [key], {});\n",
              "          if (!dataTable) return;\n",
              "\n",
              "          const docLinkHtml = 'Like what you see? Visit the ' +\n",
              "            '<a target=\"_blank\" href=https://colab.research.google.com/notebooks/data_table.ipynb>data table notebook</a>'\n",
              "            + ' to learn more about interactive tables.';\n",
              "          element.innerHTML = '';\n",
              "          dataTable['output_type'] = 'display_data';\n",
              "          await google.colab.output.renderOutput(dataTable, element);\n",
              "          const docLink = document.createElement('div');\n",
              "          docLink.innerHTML = docLinkHtml;\n",
              "          element.appendChild(docLink);\n",
              "        }\n",
              "      </script>\n",
              "    </div>\n",
              "  </div>\n",
              "  "
            ]
          },
          "metadata": {},
          "execution_count": 46
        }
      ]
    },
    {
      "cell_type": "markdown",
      "source": [
        "# Frequência das cores no dataframe"
      ],
      "metadata": {
        "id": "ERCShJG7YywV"
      }
    },
    {
      "cell_type": "code",
      "source": [
        "len(df[df['Primary Fur Color'] == 'Gray'])"
      ],
      "metadata": {
        "colab": {
          "base_uri": "https://localhost:8080/"
        },
        "id": "mit2hmxkufak",
        "outputId": "74d73c65-2cfd-4b0d-fe09-bdf12321cd03"
      },
      "execution_count": 47,
      "outputs": [
        {
          "output_type": "execute_result",
          "data": {
            "text/plain": [
              "2473"
            ]
          },
          "metadata": {},
          "execution_count": 47
        }
      ]
    },
    {
      "cell_type": "code",
      "source": [
        "len(df[df['Primary Fur Color'] == 'Cinnamon'])"
      ],
      "metadata": {
        "colab": {
          "base_uri": "https://localhost:8080/"
        },
        "id": "41HxXhZGu6yq",
        "outputId": "06bf877c-71c8-4dd5-f1da-91be9e1c8c13"
      },
      "execution_count": 48,
      "outputs": [
        {
          "output_type": "execute_result",
          "data": {
            "text/plain": [
              "392"
            ]
          },
          "metadata": {},
          "execution_count": 48
        }
      ]
    },
    {
      "cell_type": "code",
      "source": [
        "len(df[df['Primary Fur Color'] == 'Black'])"
      ],
      "metadata": {
        "colab": {
          "base_uri": "https://localhost:8080/"
        },
        "id": "B1SnGfiqvbXI",
        "outputId": "b625f24f-a08e-49d2-8d5c-9bc01d0ad857"
      },
      "execution_count": 49,
      "outputs": [
        {
          "output_type": "execute_result",
          "data": {
            "text/plain": [
              "103"
            ]
          },
          "metadata": {},
          "execution_count": 49
        }
      ]
    },
    {
      "cell_type": "markdown",
      "source": [],
      "metadata": {
        "id": "fOMDhjCOJ_sf"
      }
    }
  ]
}